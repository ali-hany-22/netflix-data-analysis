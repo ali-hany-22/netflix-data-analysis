{
  "cells": [
    {
      "cell_type": "markdown",
      "metadata": {
        "id": "F484jy7dtMwM"
      },
      "source": [
        "### **library**"
      ]
    },
    {
      "cell_type": "code",
      "execution_count": 101,
      "metadata": {
        "colab": {
          "base_uri": "https://localhost:8080/"
        },
        "id": "yP8tEkmPOD0U",
        "outputId": "26557600-9a2c-4357-b12e-b60f2239d519"
      },
      "outputs": [
        {
          "name": "stdout",
          "output_type": "stream",
          "text": [
            "Collecting streamlit\n",
            "  Downloading streamlit-1.46.1-py3-none-any.whl.metadata (9.0 kB)\n",
            "Requirement already satisfied: plotly in /usr/local/lib/python3.11/dist-packages (5.24.1)\n",
            "Requirement already satisfied: pandas in /usr/local/lib/python3.11/dist-packages (2.2.2)\n",
            "Requirement already satisfied: altair<6,>=4.0 in /usr/local/lib/python3.11/dist-packages (from streamlit) (5.5.0)\n",
            "Requirement already satisfied: blinker<2,>=1.5.0 in /usr/local/lib/python3.11/dist-packages (from streamlit) (1.9.0)\n",
            "Requirement already satisfied: cachetools<7,>=4.0 in /usr/local/lib/python3.11/dist-packages (from streamlit) (5.5.2)\n",
            "Requirement already satisfied: click<9,>=7.0 in /usr/local/lib/python3.11/dist-packages (from streamlit) (8.2.1)\n",
            "Requirement already satisfied: numpy<3,>=1.23 in /usr/local/lib/python3.11/dist-packages (from streamlit) (2.0.2)\n",
            "Requirement already satisfied: packaging<26,>=20 in /usr/local/lib/python3.11/dist-packages (from streamlit) (24.2)\n",
            "Requirement already satisfied: pillow<12,>=7.1.0 in /usr/local/lib/python3.11/dist-packages (from streamlit) (11.2.1)\n",
            "Requirement already satisfied: protobuf<7,>=3.20 in /usr/local/lib/python3.11/dist-packages (from streamlit) (5.29.5)\n",
            "Requirement already satisfied: pyarrow>=7.0 in /usr/local/lib/python3.11/dist-packages (from streamlit) (18.1.0)\n",
            "Requirement already satisfied: requests<3,>=2.27 in /usr/local/lib/python3.11/dist-packages (from streamlit) (2.32.3)\n",
            "Requirement already satisfied: tenacity<10,>=8.1.0 in /usr/local/lib/python3.11/dist-packages (from streamlit) (8.5.0)\n",
            "Requirement already satisfied: toml<2,>=0.10.1 in /usr/local/lib/python3.11/dist-packages (from streamlit) (0.10.2)\n",
            "Requirement already satisfied: typing-extensions<5,>=4.4.0 in /usr/local/lib/python3.11/dist-packages (from streamlit) (4.14.0)\n",
            "Collecting watchdog<7,>=2.1.5 (from streamlit)\n",
            "  Downloading watchdog-6.0.0-py3-none-manylinux2014_x86_64.whl.metadata (44 kB)\n",
            "\u001b[2K     \u001b[90m━━━━━━━━━━━━━━━━━━━━━━━━━━━━━━━━━━━━━━━━\u001b[0m \u001b[32m44.3/44.3 kB\u001b[0m \u001b[31m2.0 MB/s\u001b[0m eta \u001b[36m0:00:00\u001b[0m\n",
            "\u001b[?25hRequirement already satisfied: gitpython!=3.1.19,<4,>=3.0.7 in /usr/local/lib/python3.11/dist-packages (from streamlit) (3.1.44)\n",
            "Collecting pydeck<1,>=0.8.0b4 (from streamlit)\n",
            "  Downloading pydeck-0.9.1-py2.py3-none-any.whl.metadata (4.1 kB)\n",
            "Requirement already satisfied: tornado!=6.5.0,<7,>=6.0.3 in /usr/local/lib/python3.11/dist-packages (from streamlit) (6.4.2)\n",
            "Requirement already satisfied: python-dateutil>=2.8.2 in /usr/local/lib/python3.11/dist-packages (from pandas) (2.9.0.post0)\n",
            "Requirement already satisfied: pytz>=2020.1 in /usr/local/lib/python3.11/dist-packages (from pandas) (2025.2)\n",
            "Requirement already satisfied: tzdata>=2022.7 in /usr/local/lib/python3.11/dist-packages (from pandas) (2025.2)\n",
            "Requirement already satisfied: jinja2 in /usr/local/lib/python3.11/dist-packages (from altair<6,>=4.0->streamlit) (3.1.6)\n",
            "Requirement already satisfied: jsonschema>=3.0 in /usr/local/lib/python3.11/dist-packages (from altair<6,>=4.0->streamlit) (4.24.0)\n",
            "Requirement already satisfied: narwhals>=1.14.2 in /usr/local/lib/python3.11/dist-packages (from altair<6,>=4.0->streamlit) (1.45.0)\n",
            "Requirement already satisfied: gitdb<5,>=4.0.1 in /usr/local/lib/python3.11/dist-packages (from gitpython!=3.1.19,<4,>=3.0.7->streamlit) (4.0.12)\n",
            "Requirement already satisfied: six>=1.5 in /usr/local/lib/python3.11/dist-packages (from python-dateutil>=2.8.2->pandas) (1.17.0)\n",
            "Requirement already satisfied: charset-normalizer<4,>=2 in /usr/local/lib/python3.11/dist-packages (from requests<3,>=2.27->streamlit) (3.4.2)\n",
            "Requirement already satisfied: idna<4,>=2.5 in /usr/local/lib/python3.11/dist-packages (from requests<3,>=2.27->streamlit) (3.10)\n",
            "Requirement already satisfied: urllib3<3,>=1.21.1 in /usr/local/lib/python3.11/dist-packages (from requests<3,>=2.27->streamlit) (2.4.0)\n",
            "Requirement already satisfied: certifi>=2017.4.17 in /usr/local/lib/python3.11/dist-packages (from requests<3,>=2.27->streamlit) (2025.6.15)\n",
            "Requirement already satisfied: smmap<6,>=3.0.1 in /usr/local/lib/python3.11/dist-packages (from gitdb<5,>=4.0.1->gitpython!=3.1.19,<4,>=3.0.7->streamlit) (5.0.2)\n",
            "Requirement already satisfied: MarkupSafe>=2.0 in /usr/local/lib/python3.11/dist-packages (from jinja2->altair<6,>=4.0->streamlit) (3.0.2)\n",
            "Requirement already satisfied: attrs>=22.2.0 in /usr/local/lib/python3.11/dist-packages (from jsonschema>=3.0->altair<6,>=4.0->streamlit) (25.3.0)\n",
            "Requirement already satisfied: jsonschema-specifications>=2023.03.6 in /usr/local/lib/python3.11/dist-packages (from jsonschema>=3.0->altair<6,>=4.0->streamlit) (2025.4.1)\n",
            "Requirement already satisfied: referencing>=0.28.4 in /usr/local/lib/python3.11/dist-packages (from jsonschema>=3.0->altair<6,>=4.0->streamlit) (0.36.2)\n",
            "Requirement already satisfied: rpds-py>=0.7.1 in /usr/local/lib/python3.11/dist-packages (from jsonschema>=3.0->altair<6,>=4.0->streamlit) (0.26.0)\n",
            "Downloading streamlit-1.46.1-py3-none-any.whl (10.1 MB)\n",
            "\u001b[2K   \u001b[90m━━━━━━━━━━━━━━━━━━━━━━━━━━━━━━━━━━━━━━━━\u001b[0m \u001b[32m10.1/10.1 MB\u001b[0m \u001b[31m72.2 MB/s\u001b[0m eta \u001b[36m0:00:00\u001b[0m\n",
            "\u001b[?25hDownloading pydeck-0.9.1-py2.py3-none-any.whl (6.9 MB)\n",
            "\u001b[2K   \u001b[90m━━━━━━━━━━━━━━━━━━━━━━━━━━━━━━━━━━━━━━━━\u001b[0m \u001b[32m6.9/6.9 MB\u001b[0m \u001b[31m81.7 MB/s\u001b[0m eta \u001b[36m0:00:00\u001b[0m\n",
            "\u001b[?25hDownloading watchdog-6.0.0-py3-none-manylinux2014_x86_64.whl (79 kB)\n",
            "\u001b[2K   \u001b[90m━━━━━━━━━━━━━━━━━━━━━━━━━━━━━━━━━━━━━━━━\u001b[0m \u001b[32m79.1/79.1 kB\u001b[0m \u001b[31m4.9 MB/s\u001b[0m eta \u001b[36m0:00:00\u001b[0m\n",
            "\u001b[?25hInstalling collected packages: watchdog, pydeck, streamlit\n",
            "Successfully installed pydeck-0.9.1 streamlit-1.46.1 watchdog-6.0.0\n"
          ]
        }
      ],
      "source": [
        "pip install streamlit plotly pandas\n"
      ]
    },
    {
      "cell_type": "code",
      "execution_count": 2,
      "metadata": {
        "id": "jVJoW2OLseEH"
      },
      "outputs": [],
      "source": [
        "import numpy as np\n",
        "import pandas as pd\n",
        "import matplotlib.pyplot as plt\n",
        "import seaborn as sns\n",
        "import streamlit as st\n",
        "import pandas as pd\n",
        "import plotly.express as px\n",
        "from collections import Counter\n"
      ]
    },
    {
      "cell_type": "markdown",
      "metadata": {
        "id": "VLVVZOtmtXAM"
      },
      "source": [
        "## **GetData**"
      ]
    },
    {
      "cell_type": "code",
      "execution_count": 3,
      "metadata": {
        "id": "I-n1dP3RtaZF"
      },
      "outputs": [],
      "source": [
        "netflix = pd.read_csv(\"D:\\\\UneeQ\\\\netflix\\\\netflix_titles.csv\")\n"
      ]
    },
    {
      "cell_type": "code",
      "execution_count": 5,
      "metadata": {
        "colab": {
          "base_uri": "https://localhost:8080/",
          "height": 466
        },
        "id": "ygjWj_BTuCfo",
        "outputId": "3e921085-f054-43b2-e493-39773c3167ee"
      },
      "outputs": [
        {
          "data": {
            "application/vnd.microsoft.datawrangler.viewer.v0+json": {
              "columns": [
                {
                  "name": "index",
                  "rawType": "int64",
                  "type": "integer"
                },
                {
                  "name": "show_id",
                  "rawType": "object",
                  "type": "string"
                },
                {
                  "name": "type",
                  "rawType": "object",
                  "type": "string"
                },
                {
                  "name": "title",
                  "rawType": "object",
                  "type": "string"
                },
                {
                  "name": "director",
                  "rawType": "object",
                  "type": "unknown"
                },
                {
                  "name": "cast",
                  "rawType": "object",
                  "type": "unknown"
                },
                {
                  "name": "country",
                  "rawType": "object",
                  "type": "unknown"
                },
                {
                  "name": "date_added",
                  "rawType": "object",
                  "type": "string"
                },
                {
                  "name": "release_year",
                  "rawType": "int64",
                  "type": "integer"
                },
                {
                  "name": "rating",
                  "rawType": "object",
                  "type": "string"
                },
                {
                  "name": "duration",
                  "rawType": "object",
                  "type": "string"
                },
                {
                  "name": "listed_in",
                  "rawType": "object",
                  "type": "string"
                },
                {
                  "name": "description",
                  "rawType": "object",
                  "type": "string"
                }
              ],
              "ref": "b939fed4-5285-4262-97ac-3a0fe54790ca",
              "rows": [
                [
                  "0",
                  "s1",
                  "Movie",
                  "Dick Johnson Is Dead",
                  "Kirsten Johnson",
                  null,
                  "United States",
                  "September 25, 2021",
                  "2020",
                  "PG-13",
                  "90 min",
                  "Documentaries",
                  "As her father nears the end of his life, filmmaker Kirsten Johnson stages his death in inventive and comical ways to help them both face the inevitable."
                ],
                [
                  "1",
                  "s2",
                  "TV Show",
                  "Blood & Water",
                  null,
                  "Ama Qamata, Khosi Ngema, Gail Mabalane, Thabang Molaba, Dillon Windvogel, Natasha Thahane, Arno Greeff, Xolile Tshabalala, Getmore Sithole, Cindy Mahlangu, Ryle De Morny, Greteli Fincham, Sello Maake Ka-Ncube, Odwa Gwanya, Mekaila Mathys, Sandi Schultz, Duane Williams, Shamilla Miller, Patrick Mofokeng",
                  "South Africa",
                  "September 24, 2021",
                  "2021",
                  "TV-MA",
                  "2 Seasons",
                  "International TV Shows, TV Dramas, TV Mysteries",
                  "After crossing paths at a party, a Cape Town teen sets out to prove whether a private-school swimming star is her sister who was abducted at birth."
                ],
                [
                  "2",
                  "s3",
                  "TV Show",
                  "Ganglands",
                  "Julien Leclercq",
                  "Sami Bouajila, Tracy Gotoas, Samuel Jouy, Nabiha Akkari, Sofia Lesaffre, Salim Kechiouche, Noureddine Farihi, Geert Van Rampelberg, Bakary Diombera",
                  null,
                  "September 24, 2021",
                  "2021",
                  "TV-MA",
                  "1 Season",
                  "Crime TV Shows, International TV Shows, TV Action & Adventure",
                  "To protect his family from a powerful drug lord, skilled thief Mehdi and his expert team of robbers are pulled into a violent and deadly turf war."
                ],
                [
                  "3",
                  "s4",
                  "TV Show",
                  "Jailbirds New Orleans",
                  null,
                  null,
                  null,
                  "September 24, 2021",
                  "2021",
                  "TV-MA",
                  "1 Season",
                  "Docuseries, Reality TV",
                  "Feuds, flirtations and toilet talk go down among the incarcerated women at the Orleans Justice Center in New Orleans on this gritty reality series."
                ],
                [
                  "4",
                  "s5",
                  "TV Show",
                  "Kota Factory",
                  null,
                  "Mayur More, Jitendra Kumar, Ranjan Raj, Alam Khan, Ahsaas Channa, Revathi Pillai, Urvi Singh, Arun Kumar",
                  "India",
                  "September 24, 2021",
                  "2021",
                  "TV-MA",
                  "2 Seasons",
                  "International TV Shows, Romantic TV Shows, TV Comedies",
                  "In a city of coaching centers known to train India’s finest collegiate minds, an earnest but unexceptional student and his friends navigate campus life."
                ],
                [
                  "5",
                  "s6",
                  "TV Show",
                  "Midnight Mass",
                  "Mike Flanagan",
                  "Kate Siegel, Zach Gilford, Hamish Linklater, Henry Thomas, Kristin Lehman, Samantha Sloyan, Igby Rigney, Rahul Kohli, Annarah Cymone, Annabeth Gish, Alex Essoe, Rahul Abburi, Matt Biedel, Michael Trucco, Crystal Balint, Louis Oliver",
                  null,
                  "September 24, 2021",
                  "2021",
                  "TV-MA",
                  "1 Season",
                  "TV Dramas, TV Horror, TV Mysteries",
                  "The arrival of a charismatic young priest brings glorious miracles, ominous mysteries and renewed religious fervor to a dying town desperate to believe."
                ],
                [
                  "6",
                  "s7",
                  "Movie",
                  "My Little Pony: A New Generation",
                  "Robert Cullen, José Luis Ucha",
                  "Vanessa Hudgens, Kimiko Glenn, James Marsden, Sofia Carson, Liza Koshy, Ken Jeong, Elizabeth Perkins, Jane Krakowski, Michael McKean, Phil LaMarr",
                  null,
                  "September 24, 2021",
                  "2021",
                  "PG",
                  "91 min",
                  "Children & Family Movies",
                  "Equestria's divided. But a bright-eyed hero believes Earth Ponies, Pegasi and Unicorns should be pals — and, hoof to heart, she’s determined to prove it."
                ],
                [
                  "7",
                  "s8",
                  "Movie",
                  "Sankofa",
                  "Haile Gerima",
                  "Kofi Ghanaba, Oyafunmike Ogunlano, Alexandra Duah, Nick Medley, Mutabaruka, Afemo Omilami, Reggie Carter, Mzuri",
                  "United States, Ghana, Burkina Faso, United Kingdom, Germany, Ethiopia",
                  "September 24, 2021",
                  "1993",
                  "TV-MA",
                  "125 min",
                  "Dramas, Independent Movies, International Movies",
                  "On a photo shoot in Ghana, an American model slips back in time, becomes enslaved on a plantation and bears witness to the agony of her ancestral past."
                ],
                [
                  "8",
                  "s9",
                  "TV Show",
                  "The Great British Baking Show",
                  "Andy Devonshire",
                  "Mel Giedroyc, Sue Perkins, Mary Berry, Paul Hollywood",
                  "United Kingdom",
                  "September 24, 2021",
                  "2021",
                  "TV-14",
                  "9 Seasons",
                  "British TV Shows, Reality TV",
                  "A talented batch of amateur bakers face off in a 10-week competition, whipping up their best dishes in the hopes of being named the U.K.'s best."
                ],
                [
                  "9",
                  "s10",
                  "Movie",
                  "The Starling",
                  "Theodore Melfi",
                  "Melissa McCarthy, Chris O'Dowd, Kevin Kline, Timothy Olyphant, Daveed Diggs, Skyler Gisondo, Laura Harrier, Rosalind Chao, Kimberly Quinn, Loretta Devine, Ravi Kapoor",
                  "United States",
                  "September 24, 2021",
                  "2021",
                  "PG-13",
                  "104 min",
                  "Comedies, Dramas",
                  "A woman adjusting to life after a loss contends with a feisty bird that's taken over her garden — and a husband who's struggling to find a way forward."
                ],
                [
                  "10",
                  "s11",
                  "TV Show",
                  "Vendetta: Truth, Lies and The Mafia",
                  null,
                  null,
                  null,
                  "September 24, 2021",
                  "2021",
                  "TV-MA",
                  "1 Season",
                  "Crime TV Shows, Docuseries, International TV Shows",
                  "Sicily boasts a bold \"Anti-Mafia\" coalition. But what happens when those trying to bring down organized crime are accused of being criminals themselves?"
                ],
                [
                  "11",
                  "s12",
                  "TV Show",
                  "Bangkok Breaking",
                  "Kongkiat Komesiri",
                  "Sukollawat Kanarot, Sushar Manaying, Pavarit Mongkolpisit, Sahajak Boonthanakit, Suthipongse Thatphithakkul, Bhasaworn Bawronkirati, Daweerit Chullasapya, Waratthaya Wongchayaporn, Kittiphoom Wongpentak, Abhicha Thanachanun, Nophand Boonyai, Kittipong Khamsat, Arisara Wongchalee, Jaytiya Naiwattanakul, Pantipa Arunwattanachai, Panupan Jantanawong, Kungtap Saelim, Phumphat Chartsuriyakiat, Issara Veranitinunt, Keerati Sivakuae, Panjai Sirisuwan, Supranee Charoenpol, Suda Chuenban, Visaka Banhansupavat, Pitchatorn Santinatornkul",
                  null,
                  "September 23, 2021",
                  "2021",
                  "TV-MA",
                  "1 Season",
                  "Crime TV Shows, International TV Shows, TV Action & Adventure",
                  "Struggling to earn a living in Bangkok, a man joins an emergency rescue service and realizes he must unravel a citywide conspiracy."
                ],
                [
                  "12",
                  "s13",
                  "Movie",
                  "Je Suis Karl",
                  "Christian Schwochow",
                  "Luna Wedler, Jannis Niewöhner, Milan Peschel, Edin Hasanović, Anna Fialová, Marlon Boess, Victor Boccard, Fleur Geffrier, Aziz Dyab, Mélanie Fouché, Elizaveta Maximová",
                  "Germany, Czech Republic",
                  "September 23, 2021",
                  "2021",
                  "TV-MA",
                  "127 min",
                  "Dramas, International Movies",
                  "After most of her family is murdered in a terrorist bombing, a young woman is unknowingly lured into joining the very group that killed them."
                ],
                [
                  "13",
                  "s14",
                  "Movie",
                  "Confessions of an Invisible Girl",
                  "Bruno Garotti",
                  "Klara Castanho, Lucca Picon, Júlia Gomes, Marcus Bessa, Kiria Malheiros, Fernanda Concon, Gabriel Lima, Caio Cabral, Leonardo Cidade, Jade Cardozo",
                  null,
                  "September 22, 2021",
                  "2021",
                  "TV-PG",
                  "91 min",
                  "Children & Family Movies, Comedies",
                  "When the clever but socially-awkward Tetê joins a new school, she'll do anything to fit in. But the queen bee among her classmates has other ideas."
                ],
                [
                  "14",
                  "s15",
                  "TV Show",
                  "Crime Stories: India Detectives",
                  null,
                  null,
                  null,
                  "September 22, 2021",
                  "2021",
                  "TV-MA",
                  "1 Season",
                  "British TV Shows, Crime TV Shows, Docuseries",
                  "Cameras following Bengaluru police on the job offer a rare glimpse into the complex and challenging inner workings of four major crime investigations."
                ],
                [
                  "15",
                  "s16",
                  "TV Show",
                  "Dear White People",
                  null,
                  "Logan Browning, Brandon P. Bell, DeRon Horton, Antoinette Robertson, John Patrick Amedori, Ashley Blaine Featherson, Marque Richardson, Giancarlo Esposito",
                  "United States",
                  "September 22, 2021",
                  "2021",
                  "TV-MA",
                  "4 Seasons",
                  "TV Comedies, TV Dramas",
                  "Students of color navigate the daily slights and slippery politics of life at an Ivy League college that's not nearly as \"post-racial\" as it thinks."
                ],
                [
                  "16",
                  "s17",
                  "Movie",
                  "Europe's Most Dangerous Man: Otto Skorzeny in Spain",
                  "Pedro de Echave García, Pablo Azorín Williams",
                  null,
                  null,
                  "September 22, 2021",
                  "2020",
                  "TV-MA",
                  "67 min",
                  "Documentaries, International Movies",
                  "Declassified documents reveal the post-WWII life of Otto Skorzeny, a close Hitler ally who escaped to Spain and became an adviser to world presidents."
                ],
                [
                  "17",
                  "s18",
                  "TV Show",
                  "Falsa identidad",
                  null,
                  "Luis Ernesto Franco, Camila Sodi, Sergio Goyri, Samadhi Zendejas, Eduardo Yáñez, Sonya Smith, Alejandro Camacho, Azela Robinson, Uriel del Toro, Géraldine Bazán, Gabriela Roel, Marcus Ornellas",
                  "Mexico",
                  "September 22, 2021",
                  "2020",
                  "TV-MA",
                  "2 Seasons",
                  "Crime TV Shows, Spanish-Language TV Shows, TV Dramas",
                  "Strangers Diego and Isabel flee their home in Mexico and pretend to be a married couple to escape his drug-dealing enemies and her abusive husband."
                ],
                [
                  "18",
                  "s19",
                  "Movie",
                  "Intrusion",
                  "Adam Salky",
                  "Freida Pinto, Logan Marshall-Green, Robert John Burke, Megan Elisabeth Kelly, Sarah Minnich, Hayes Hargrove, Mark Sivertsen, Brandon Fierro, Antonio Valles, Clint Obenchain",
                  null,
                  "September 22, 2021",
                  "2021",
                  "TV-14",
                  "94 min",
                  "Thrillers",
                  "After a deadly home invasion at a couple’s new dream house, the traumatized wife searches for answers — and learns the real danger is just beginning."
                ],
                [
                  "19",
                  "s20",
                  "TV Show",
                  "Jaguar",
                  null,
                  "Blanca Suárez, Iván Marcos, Óscar Casas, Adrián Lastra, Francesc Garrido, Stefan Weinert, Julia Möller, Alicia Chojnowski",
                  null,
                  "September 22, 2021",
                  "2021",
                  "TV-MA",
                  "1 Season",
                  "International TV Shows, Spanish-Language TV Shows, TV Action & Adventure",
                  "In the 1960s, a Holocaust survivor joins a group of self-trained spies who seek justice against Nazis fleeing to Spain to hide after WWII."
                ],
                [
                  "20",
                  "s21",
                  "TV Show",
                  "Monsters Inside: The 24 Faces of Billy Milligan",
                  "Olivier Megaton",
                  null,
                  null,
                  "September 22, 2021",
                  "2021",
                  "TV-14",
                  "1 Season",
                  "Crime TV Shows, Docuseries, International TV Shows",
                  "In the late 1970s, an accused serial rapist claims multiple personalities control his behavior, setting off a legal odyssey that captivates America."
                ],
                [
                  "21",
                  "s22",
                  "TV Show",
                  "Resurrection: Ertugrul",
                  null,
                  "Engin Altan Düzyatan, Serdar Gökhan, Hülya Darcan, Kaan Taşaner, Esra Bilgiç, Osman Soykut, Serdar Deniz, Cengiz Coşkun, Reshad Strik, Hande Subaşı",
                  "Turkey",
                  "September 22, 2021",
                  "2018",
                  "TV-14",
                  "5 Seasons",
                  "International TV Shows, TV Action & Adventure, TV Dramas",
                  "When a good deed unwittingly endangers his clan, a 13th-century Turkish warrior agrees to fight a sultan's enemies in exchange for new tribal land."
                ],
                [
                  "22",
                  "s23",
                  "Movie",
                  "Avvai Shanmughi",
                  "K.S. Ravikumar",
                  "Kamal Hassan, Meena, Gemini Ganesan, Heera Rajgopal, Nassar, S.P. Balasubrahmanyam",
                  null,
                  "September 21, 2021",
                  "1996",
                  "TV-PG",
                  "161 min",
                  "Comedies, International Movies",
                  "Newly divorced and denied visitation rights with his daughter, a doting father disguises himself as a gray-haired nanny in order to spend time with her."
                ],
                [
                  "23",
                  "s24",
                  "Movie",
                  "Go! Go! Cory Carson: Chrissy Takes the Wheel",
                  "Alex Woo, Stanley Moore",
                  "Maisie Benson, Paul Killam, Kerry Gudjohnsen, AC Lim",
                  null,
                  "September 21, 2021",
                  "2021",
                  "TV-Y",
                  "61 min",
                  "Children & Family Movies",
                  "From arcade games to sled days and hiccup cures, Cory Carson’s curious little sister Chrissy speeds off on her own for fun and adventure all over town!"
                ],
                [
                  "24",
                  "s25",
                  "Movie",
                  "Jeans",
                  "S. Shankar",
                  "Prashanth, Aishwarya Rai Bachchan, Sri Lakshmi, Nassar",
                  "India",
                  "September 21, 2021",
                  "1998",
                  "TV-14",
                  "166 min",
                  "Comedies, International Movies, Romantic Movies",
                  "When the father of the man she loves insists that his twin sons marry twin sisters, a woman creates an alter ego that might be a bit too convincing."
                ],
                [
                  "25",
                  "s26",
                  "TV Show",
                  "Love on the Spectrum",
                  null,
                  "Brooke Satchwell",
                  "Australia",
                  "September 21, 2021",
                  "2021",
                  "TV-14",
                  "2 Seasons",
                  "Docuseries, International TV Shows, Reality TV",
                  "Finding love can be hard for anyone. For young adults on the autism spectrum, exploring the unpredictable world of dating is even more complicated."
                ],
                [
                  "26",
                  "s27",
                  "Movie",
                  "Minsara Kanavu",
                  "Rajiv Menon",
                  "Arvind Swamy, Kajol, Prabhu Deva, Nassar, S.P. Balasubrahmanyam, Girish Karnad",
                  null,
                  "September 21, 2021",
                  "1997",
                  "TV-PG",
                  "147 min",
                  "Comedies, International Movies, Music & Musicals",
                  "A tangled love triangle ensues when a man falls for a woman studying to become a nun — and she falls for the friend he enlists to help him pursue her."
                ],
                [
                  "27",
                  "s28",
                  "Movie",
                  "Grown Ups",
                  "Dennis Dugan",
                  "Adam Sandler, Kevin James, Chris Rock, David Spade, Rob Schneider, Salma Hayek, Maria Bello, Maya Rudolph, Colin Quinn, Tim Meadows, Joyce Van Patten",
                  "United States",
                  "September 20, 2021",
                  "2010",
                  "PG-13",
                  "103 min",
                  "Comedies",
                  "Mourning the loss of their beloved junior high basketball coach, five middle-aged pals reunite at a lake house and rediscover the joys of being a kid."
                ],
                [
                  "28",
                  "s29",
                  "Movie",
                  "Dark Skies",
                  "Scott Stewart",
                  "Keri Russell, Josh Hamilton, J.K. Simmons, Dakota Goyo, Kadan Rockett, L.J. Benet, Rich Hutchman, Myndy Crist, Annie Thurman, Jake Brennan",
                  "United States",
                  "September 19, 2021",
                  "2013",
                  "PG-13",
                  "97 min",
                  "Horror Movies, Sci-Fi & Fantasy",
                  "A family’s idyllic suburban life shatters when an alien force invades their home, and as they struggle to convince others of the deadly threat."
                ],
                [
                  "29",
                  "s30",
                  "Movie",
                  "Paranoia",
                  "Robert Luketic",
                  "Liam Hemsworth, Gary Oldman, Amber Heard, Harrison Ford, Lucas Till, Embeth Davidtz, Julian McMahon, Josh Holloway, Richard Dreyfuss, Angela Sarafyan",
                  "United States, India, France",
                  "September 19, 2021",
                  "2013",
                  "PG-13",
                  "106 min",
                  "Thrillers",
                  "Blackmailed by his company's CEO, a low-level employee finds himself forced to spy on the boss's rival and former mentor."
                ],
                [
                  "30",
                  "s31",
                  "Movie",
                  "Ankahi Kahaniya",
                  "Ashwiny Iyer Tiwari, Abhishek Chaubey, Saket Chaudhary",
                  "Abhishek Banerjee, Rinku Rajguru, Delzad Hiwale, Kunal Kapoor, Zoya Hussain, Nikhil Dwivedi, Palomi Ghosh",
                  null,
                  "September 17, 2021",
                  "2021",
                  "TV-14",
                  "111 min",
                  "Dramas, Independent Movies, International Movies",
                  "As big city life buzzes around them, lonely souls discover surprising sources of connection and companionship in three tales of love, loss and longing."
                ],
                [
                  "31",
                  "s32",
                  "TV Show",
                  "Chicago Party Aunt",
                  null,
                  "Lauren Ash, Rory O'Malley, RuPaul Charles, Jill Talley, Ike Barinholtz, Jon Barinholtz, Matthew Craig, Bob Odenkirk, Mike Hagerty, Katie Rich, Chris Witaske",
                  null,
                  "September 17, 2021",
                  "2021",
                  "TV-MA",
                  "1 Season",
                  "TV Comedies",
                  "Chicago Party Aunt Diane is an idolized troublemaker with a talent for avoiding adulthood — and a soft spot for her soul-searching nephew."
                ],
                [
                  "32",
                  "s33",
                  "TV Show",
                  "Sex Education",
                  null,
                  "Asa Butterfield, Gillian Anderson, Ncuti Gatwa, Emma Mackey, Connor Swindells, Kedar Williams-Stirling, Alistair Petrie",
                  "United Kingdom",
                  "September 17, 2021",
                  "2020",
                  "TV-MA",
                  "3 Seasons",
                  "British TV Shows, International TV Shows, TV Comedies",
                  "Insecure Otis has all the answers when it comes to sex advice, thanks to his therapist mom. So rebel Maeve proposes a school sex-therapy clinic."
                ],
                [
                  "33",
                  "s34",
                  "TV Show",
                  "Squid Game",
                  null,
                  "Lee Jung-jae, Park Hae-soo, Wi Ha-jun, Oh Young-soo, Jung Ho-yeon, Heo Sung-tae, Kim Joo-ryoung, Tripathi Anupam, You Seong-joo, Lee You-mi",
                  null,
                  "September 17, 2021",
                  "2021",
                  "TV-MA",
                  "1 Season",
                  "International TV Shows, TV Dramas, TV Thrillers",
                  "Hundreds of cash-strapped players accept a strange invitation to compete in children's games. Inside, a tempting prize awaits — with deadly high stakes."
                ],
                [
                  "34",
                  "s35",
                  "TV Show",
                  "Tayo and Little Wizards",
                  null,
                  "Dami Lee, Jason Lee, Bommie Catherine Han, Jennifer Waescher, Nancy Kim",
                  null,
                  "September 17, 2021",
                  "2020",
                  "TV-Y7",
                  "1 Season",
                  "Kids' TV",
                  "Tayo speeds into an adventure when his friends get kidnapped by evil magicians invading their city in search of a magical gemstone."
                ],
                [
                  "35",
                  "s36",
                  "Movie",
                  "The Father Who Moves Mountains",
                  "Daniel Sandu",
                  "Adrian Titieni, Elena Purea, Judith State, Valeriu Andriuță, Tudor Smoleanu, Virgil Aioanei, Radu Botar, Petronela Grigorescu, Bogdan Nechifor, Cristian Bota",
                  null,
                  "September 17, 2021",
                  "2021",
                  "TV-MA",
                  "110 min",
                  "Dramas, International Movies, Thrillers",
                  "When his son goes missing during a snowy hike in the mountains, a retired intelligence officer will stop at nothing — and risk everything — to find him."
                ],
                [
                  "36",
                  "s37",
                  "Movie",
                  "The Stronghold",
                  "Cédric Jimenez",
                  "Gilles Lellouche, Karim Leklou, François Civil, Adèle Exarchopoulos, Kenza Fortas, Cyril Lecomte, Michaël Abiteboul, Idir Azougli, Vincent Darmuzey, Jean-Yves Berteloot",
                  null,
                  "September 17, 2021",
                  "2021",
                  "TV-MA",
                  "105 min",
                  "Action & Adventure, Dramas, International Movies",
                  "Tired of the small-time grind, three Marseille cops get a chance to bust a major drug network. But lines blur when a key informant makes a big ask."
                ],
                [
                  "37",
                  "s38",
                  "TV Show",
                  "Angry Birds",
                  null,
                  "Antti Pääkkönen, Heljä Heikkinen, Lynne Guaglione, Pasi Ruohonen, Rauno Ahonen",
                  "Finland",
                  "September 16, 2021",
                  "2018",
                  "TV-Y7",
                  "1 Season",
                  "Kids' TV, TV Comedies",
                  "Birds Red, Chuck and their feathered friends have lots of adventures while guarding eggs in their nest that pesky pigs keep trying to steal."
                ],
                [
                  "38",
                  "s39",
                  "Movie",
                  "Birth of the Dragon",
                  "George Nolfi",
                  "Billy Magnussen, Ron Yuan, Qu Jingjing, Terry Chen, Vanness Wu, Jin Xing, Philip Ng, Xia Yu, Yu Xia",
                  "China, Canada, United States",
                  "September 16, 2021",
                  "2017",
                  "PG-13",
                  "96 min",
                  "Action & Adventure, Dramas",
                  "A young Bruce Lee angers kung fu traditionalists by teaching outsiders, leading to a showdown with a Shaolin master in this film based on real events."
                ],
                [
                  "39",
                  "s40",
                  "TV Show",
                  "Chhota Bheem",
                  null,
                  "Vatsal Dubey, Julie Tejwani, Rupa Bhimani, Jigna Bhardwaj, Rajesh Kava, Mousam, Swapnil",
                  "India",
                  "September 16, 2021",
                  "2021",
                  "TV-Y7",
                  "3 Seasons",
                  "Kids' TV",
                  "A brave, energetic little boy with superhuman powers leads his friends on exciting adventures to guard their fellow Dholakpur villagers from evil."
                ]
              ],
              "shape": {
                "columns": 12,
                "rows": 40
              }
            },
            "text/html": [
              "<div>\n",
              "<style scoped>\n",
              "    .dataframe tbody tr th:only-of-type {\n",
              "        vertical-align: middle;\n",
              "    }\n",
              "\n",
              "    .dataframe tbody tr th {\n",
              "        vertical-align: top;\n",
              "    }\n",
              "\n",
              "    .dataframe thead th {\n",
              "        text-align: right;\n",
              "    }\n",
              "</style>\n",
              "<table border=\"1\" class=\"dataframe\">\n",
              "  <thead>\n",
              "    <tr style=\"text-align: right;\">\n",
              "      <th></th>\n",
              "      <th>show_id</th>\n",
              "      <th>type</th>\n",
              "      <th>title</th>\n",
              "      <th>director</th>\n",
              "      <th>cast</th>\n",
              "      <th>country</th>\n",
              "      <th>date_added</th>\n",
              "      <th>release_year</th>\n",
              "      <th>rating</th>\n",
              "      <th>duration</th>\n",
              "      <th>listed_in</th>\n",
              "      <th>description</th>\n",
              "    </tr>\n",
              "  </thead>\n",
              "  <tbody>\n",
              "    <tr>\n",
              "      <th>0</th>\n",
              "      <td>s1</td>\n",
              "      <td>Movie</td>\n",
              "      <td>Dick Johnson Is Dead</td>\n",
              "      <td>Kirsten Johnson</td>\n",
              "      <td>NaN</td>\n",
              "      <td>United States</td>\n",
              "      <td>September 25, 2021</td>\n",
              "      <td>2020</td>\n",
              "      <td>PG-13</td>\n",
              "      <td>90 min</td>\n",
              "      <td>Documentaries</td>\n",
              "      <td>As her father nears the end of his life, filmm...</td>\n",
              "    </tr>\n",
              "    <tr>\n",
              "      <th>1</th>\n",
              "      <td>s2</td>\n",
              "      <td>TV Show</td>\n",
              "      <td>Blood &amp; Water</td>\n",
              "      <td>NaN</td>\n",
              "      <td>Ama Qamata, Khosi Ngema, Gail Mabalane, Thaban...</td>\n",
              "      <td>South Africa</td>\n",
              "      <td>September 24, 2021</td>\n",
              "      <td>2021</td>\n",
              "      <td>TV-MA</td>\n",
              "      <td>2 Seasons</td>\n",
              "      <td>International TV Shows, TV Dramas, TV Mysteries</td>\n",
              "      <td>After crossing paths at a party, a Cape Town t...</td>\n",
              "    </tr>\n",
              "    <tr>\n",
              "      <th>2</th>\n",
              "      <td>s3</td>\n",
              "      <td>TV Show</td>\n",
              "      <td>Ganglands</td>\n",
              "      <td>Julien Leclercq</td>\n",
              "      <td>Sami Bouajila, Tracy Gotoas, Samuel Jouy, Nabi...</td>\n",
              "      <td>NaN</td>\n",
              "      <td>September 24, 2021</td>\n",
              "      <td>2021</td>\n",
              "      <td>TV-MA</td>\n",
              "      <td>1 Season</td>\n",
              "      <td>Crime TV Shows, International TV Shows, TV Act...</td>\n",
              "      <td>To protect his family from a powerful drug lor...</td>\n",
              "    </tr>\n",
              "    <tr>\n",
              "      <th>3</th>\n",
              "      <td>s4</td>\n",
              "      <td>TV Show</td>\n",
              "      <td>Jailbirds New Orleans</td>\n",
              "      <td>NaN</td>\n",
              "      <td>NaN</td>\n",
              "      <td>NaN</td>\n",
              "      <td>September 24, 2021</td>\n",
              "      <td>2021</td>\n",
              "      <td>TV-MA</td>\n",
              "      <td>1 Season</td>\n",
              "      <td>Docuseries, Reality TV</td>\n",
              "      <td>Feuds, flirtations and toilet talk go down amo...</td>\n",
              "    </tr>\n",
              "    <tr>\n",
              "      <th>4</th>\n",
              "      <td>s5</td>\n",
              "      <td>TV Show</td>\n",
              "      <td>Kota Factory</td>\n",
              "      <td>NaN</td>\n",
              "      <td>Mayur More, Jitendra Kumar, Ranjan Raj, Alam K...</td>\n",
              "      <td>India</td>\n",
              "      <td>September 24, 2021</td>\n",
              "      <td>2021</td>\n",
              "      <td>TV-MA</td>\n",
              "      <td>2 Seasons</td>\n",
              "      <td>International TV Shows, Romantic TV Shows, TV ...</td>\n",
              "      <td>In a city of coaching centers known to train I...</td>\n",
              "    </tr>\n",
              "    <tr>\n",
              "      <th>5</th>\n",
              "      <td>s6</td>\n",
              "      <td>TV Show</td>\n",
              "      <td>Midnight Mass</td>\n",
              "      <td>Mike Flanagan</td>\n",
              "      <td>Kate Siegel, Zach Gilford, Hamish Linklater, H...</td>\n",
              "      <td>NaN</td>\n",
              "      <td>September 24, 2021</td>\n",
              "      <td>2021</td>\n",
              "      <td>TV-MA</td>\n",
              "      <td>1 Season</td>\n",
              "      <td>TV Dramas, TV Horror, TV Mysteries</td>\n",
              "      <td>The arrival of a charismatic young priest brin...</td>\n",
              "    </tr>\n",
              "    <tr>\n",
              "      <th>6</th>\n",
              "      <td>s7</td>\n",
              "      <td>Movie</td>\n",
              "      <td>My Little Pony: A New Generation</td>\n",
              "      <td>Robert Cullen, José Luis Ucha</td>\n",
              "      <td>Vanessa Hudgens, Kimiko Glenn, James Marsden, ...</td>\n",
              "      <td>NaN</td>\n",
              "      <td>September 24, 2021</td>\n",
              "      <td>2021</td>\n",
              "      <td>PG</td>\n",
              "      <td>91 min</td>\n",
              "      <td>Children &amp; Family Movies</td>\n",
              "      <td>Equestria's divided. But a bright-eyed hero be...</td>\n",
              "    </tr>\n",
              "    <tr>\n",
              "      <th>7</th>\n",
              "      <td>s8</td>\n",
              "      <td>Movie</td>\n",
              "      <td>Sankofa</td>\n",
              "      <td>Haile Gerima</td>\n",
              "      <td>Kofi Ghanaba, Oyafunmike Ogunlano, Alexandra D...</td>\n",
              "      <td>United States, Ghana, Burkina Faso, United Kin...</td>\n",
              "      <td>September 24, 2021</td>\n",
              "      <td>1993</td>\n",
              "      <td>TV-MA</td>\n",
              "      <td>125 min</td>\n",
              "      <td>Dramas, Independent Movies, International Movies</td>\n",
              "      <td>On a photo shoot in Ghana, an American model s...</td>\n",
              "    </tr>\n",
              "    <tr>\n",
              "      <th>8</th>\n",
              "      <td>s9</td>\n",
              "      <td>TV Show</td>\n",
              "      <td>The Great British Baking Show</td>\n",
              "      <td>Andy Devonshire</td>\n",
              "      <td>Mel Giedroyc, Sue Perkins, Mary Berry, Paul Ho...</td>\n",
              "      <td>United Kingdom</td>\n",
              "      <td>September 24, 2021</td>\n",
              "      <td>2021</td>\n",
              "      <td>TV-14</td>\n",
              "      <td>9 Seasons</td>\n",
              "      <td>British TV Shows, Reality TV</td>\n",
              "      <td>A talented batch of amateur bakers face off in...</td>\n",
              "    </tr>\n",
              "    <tr>\n",
              "      <th>9</th>\n",
              "      <td>s10</td>\n",
              "      <td>Movie</td>\n",
              "      <td>The Starling</td>\n",
              "      <td>Theodore Melfi</td>\n",
              "      <td>Melissa McCarthy, Chris O'Dowd, Kevin Kline, T...</td>\n",
              "      <td>United States</td>\n",
              "      <td>September 24, 2021</td>\n",
              "      <td>2021</td>\n",
              "      <td>PG-13</td>\n",
              "      <td>104 min</td>\n",
              "      <td>Comedies, Dramas</td>\n",
              "      <td>A woman adjusting to life after a loss contend...</td>\n",
              "    </tr>\n",
              "    <tr>\n",
              "      <th>10</th>\n",
              "      <td>s11</td>\n",
              "      <td>TV Show</td>\n",
              "      <td>Vendetta: Truth, Lies and The Mafia</td>\n",
              "      <td>NaN</td>\n",
              "      <td>NaN</td>\n",
              "      <td>NaN</td>\n",
              "      <td>September 24, 2021</td>\n",
              "      <td>2021</td>\n",
              "      <td>TV-MA</td>\n",
              "      <td>1 Season</td>\n",
              "      <td>Crime TV Shows, Docuseries, International TV S...</td>\n",
              "      <td>Sicily boasts a bold \"Anti-Mafia\" coalition. B...</td>\n",
              "    </tr>\n",
              "    <tr>\n",
              "      <th>11</th>\n",
              "      <td>s12</td>\n",
              "      <td>TV Show</td>\n",
              "      <td>Bangkok Breaking</td>\n",
              "      <td>Kongkiat Komesiri</td>\n",
              "      <td>Sukollawat Kanarot, Sushar Manaying, Pavarit M...</td>\n",
              "      <td>NaN</td>\n",
              "      <td>September 23, 2021</td>\n",
              "      <td>2021</td>\n",
              "      <td>TV-MA</td>\n",
              "      <td>1 Season</td>\n",
              "      <td>Crime TV Shows, International TV Shows, TV Act...</td>\n",
              "      <td>Struggling to earn a living in Bangkok, a man ...</td>\n",
              "    </tr>\n",
              "    <tr>\n",
              "      <th>12</th>\n",
              "      <td>s13</td>\n",
              "      <td>Movie</td>\n",
              "      <td>Je Suis Karl</td>\n",
              "      <td>Christian Schwochow</td>\n",
              "      <td>Luna Wedler, Jannis Niewöhner, Milan Peschel, ...</td>\n",
              "      <td>Germany, Czech Republic</td>\n",
              "      <td>September 23, 2021</td>\n",
              "      <td>2021</td>\n",
              "      <td>TV-MA</td>\n",
              "      <td>127 min</td>\n",
              "      <td>Dramas, International Movies</td>\n",
              "      <td>After most of her family is murdered in a terr...</td>\n",
              "    </tr>\n",
              "    <tr>\n",
              "      <th>13</th>\n",
              "      <td>s14</td>\n",
              "      <td>Movie</td>\n",
              "      <td>Confessions of an Invisible Girl</td>\n",
              "      <td>Bruno Garotti</td>\n",
              "      <td>Klara Castanho, Lucca Picon, Júlia Gomes, Marc...</td>\n",
              "      <td>NaN</td>\n",
              "      <td>September 22, 2021</td>\n",
              "      <td>2021</td>\n",
              "      <td>TV-PG</td>\n",
              "      <td>91 min</td>\n",
              "      <td>Children &amp; Family Movies, Comedies</td>\n",
              "      <td>When the clever but socially-awkward Tetê join...</td>\n",
              "    </tr>\n",
              "    <tr>\n",
              "      <th>14</th>\n",
              "      <td>s15</td>\n",
              "      <td>TV Show</td>\n",
              "      <td>Crime Stories: India Detectives</td>\n",
              "      <td>NaN</td>\n",
              "      <td>NaN</td>\n",
              "      <td>NaN</td>\n",
              "      <td>September 22, 2021</td>\n",
              "      <td>2021</td>\n",
              "      <td>TV-MA</td>\n",
              "      <td>1 Season</td>\n",
              "      <td>British TV Shows, Crime TV Shows, Docuseries</td>\n",
              "      <td>Cameras following Bengaluru police on the job ...</td>\n",
              "    </tr>\n",
              "    <tr>\n",
              "      <th>15</th>\n",
              "      <td>s16</td>\n",
              "      <td>TV Show</td>\n",
              "      <td>Dear White People</td>\n",
              "      <td>NaN</td>\n",
              "      <td>Logan Browning, Brandon P. Bell, DeRon Horton,...</td>\n",
              "      <td>United States</td>\n",
              "      <td>September 22, 2021</td>\n",
              "      <td>2021</td>\n",
              "      <td>TV-MA</td>\n",
              "      <td>4 Seasons</td>\n",
              "      <td>TV Comedies, TV Dramas</td>\n",
              "      <td>Students of color navigate the daily slights a...</td>\n",
              "    </tr>\n",
              "    <tr>\n",
              "      <th>16</th>\n",
              "      <td>s17</td>\n",
              "      <td>Movie</td>\n",
              "      <td>Europe's Most Dangerous Man: Otto Skorzeny in ...</td>\n",
              "      <td>Pedro de Echave García, Pablo Azorín Williams</td>\n",
              "      <td>NaN</td>\n",
              "      <td>NaN</td>\n",
              "      <td>September 22, 2021</td>\n",
              "      <td>2020</td>\n",
              "      <td>TV-MA</td>\n",
              "      <td>67 min</td>\n",
              "      <td>Documentaries, International Movies</td>\n",
              "      <td>Declassified documents reveal the post-WWII li...</td>\n",
              "    </tr>\n",
              "    <tr>\n",
              "      <th>17</th>\n",
              "      <td>s18</td>\n",
              "      <td>TV Show</td>\n",
              "      <td>Falsa identidad</td>\n",
              "      <td>NaN</td>\n",
              "      <td>Luis Ernesto Franco, Camila Sodi, Sergio Goyri...</td>\n",
              "      <td>Mexico</td>\n",
              "      <td>September 22, 2021</td>\n",
              "      <td>2020</td>\n",
              "      <td>TV-MA</td>\n",
              "      <td>2 Seasons</td>\n",
              "      <td>Crime TV Shows, Spanish-Language TV Shows, TV ...</td>\n",
              "      <td>Strangers Diego and Isabel flee their home in ...</td>\n",
              "    </tr>\n",
              "    <tr>\n",
              "      <th>18</th>\n",
              "      <td>s19</td>\n",
              "      <td>Movie</td>\n",
              "      <td>Intrusion</td>\n",
              "      <td>Adam Salky</td>\n",
              "      <td>Freida Pinto, Logan Marshall-Green, Robert Joh...</td>\n",
              "      <td>NaN</td>\n",
              "      <td>September 22, 2021</td>\n",
              "      <td>2021</td>\n",
              "      <td>TV-14</td>\n",
              "      <td>94 min</td>\n",
              "      <td>Thrillers</td>\n",
              "      <td>After a deadly home invasion at a couple’s new...</td>\n",
              "    </tr>\n",
              "    <tr>\n",
              "      <th>19</th>\n",
              "      <td>s20</td>\n",
              "      <td>TV Show</td>\n",
              "      <td>Jaguar</td>\n",
              "      <td>NaN</td>\n",
              "      <td>Blanca Suárez, Iván Marcos, Óscar Casas, Adriá...</td>\n",
              "      <td>NaN</td>\n",
              "      <td>September 22, 2021</td>\n",
              "      <td>2021</td>\n",
              "      <td>TV-MA</td>\n",
              "      <td>1 Season</td>\n",
              "      <td>International TV Shows, Spanish-Language TV Sh...</td>\n",
              "      <td>In the 1960s, a Holocaust survivor joins a gro...</td>\n",
              "    </tr>\n",
              "    <tr>\n",
              "      <th>20</th>\n",
              "      <td>s21</td>\n",
              "      <td>TV Show</td>\n",
              "      <td>Monsters Inside: The 24 Faces of Billy Milligan</td>\n",
              "      <td>Olivier Megaton</td>\n",
              "      <td>NaN</td>\n",
              "      <td>NaN</td>\n",
              "      <td>September 22, 2021</td>\n",
              "      <td>2021</td>\n",
              "      <td>TV-14</td>\n",
              "      <td>1 Season</td>\n",
              "      <td>Crime TV Shows, Docuseries, International TV S...</td>\n",
              "      <td>In the late 1970s, an accused serial rapist cl...</td>\n",
              "    </tr>\n",
              "    <tr>\n",
              "      <th>21</th>\n",
              "      <td>s22</td>\n",
              "      <td>TV Show</td>\n",
              "      <td>Resurrection: Ertugrul</td>\n",
              "      <td>NaN</td>\n",
              "      <td>Engin Altan Düzyatan, Serdar Gökhan, Hülya Dar...</td>\n",
              "      <td>Turkey</td>\n",
              "      <td>September 22, 2021</td>\n",
              "      <td>2018</td>\n",
              "      <td>TV-14</td>\n",
              "      <td>5 Seasons</td>\n",
              "      <td>International TV Shows, TV Action &amp; Adventure,...</td>\n",
              "      <td>When a good deed unwittingly endangers his cla...</td>\n",
              "    </tr>\n",
              "    <tr>\n",
              "      <th>22</th>\n",
              "      <td>s23</td>\n",
              "      <td>Movie</td>\n",
              "      <td>Avvai Shanmughi</td>\n",
              "      <td>K.S. Ravikumar</td>\n",
              "      <td>Kamal Hassan, Meena, Gemini Ganesan, Heera Raj...</td>\n",
              "      <td>NaN</td>\n",
              "      <td>September 21, 2021</td>\n",
              "      <td>1996</td>\n",
              "      <td>TV-PG</td>\n",
              "      <td>161 min</td>\n",
              "      <td>Comedies, International Movies</td>\n",
              "      <td>Newly divorced and denied visitation rights wi...</td>\n",
              "    </tr>\n",
              "    <tr>\n",
              "      <th>23</th>\n",
              "      <td>s24</td>\n",
              "      <td>Movie</td>\n",
              "      <td>Go! Go! Cory Carson: Chrissy Takes the Wheel</td>\n",
              "      <td>Alex Woo, Stanley Moore</td>\n",
              "      <td>Maisie Benson, Paul Killam, Kerry Gudjohnsen, ...</td>\n",
              "      <td>NaN</td>\n",
              "      <td>September 21, 2021</td>\n",
              "      <td>2021</td>\n",
              "      <td>TV-Y</td>\n",
              "      <td>61 min</td>\n",
              "      <td>Children &amp; Family Movies</td>\n",
              "      <td>From arcade games to sled days and hiccup cure...</td>\n",
              "    </tr>\n",
              "    <tr>\n",
              "      <th>24</th>\n",
              "      <td>s25</td>\n",
              "      <td>Movie</td>\n",
              "      <td>Jeans</td>\n",
              "      <td>S. Shankar</td>\n",
              "      <td>Prashanth, Aishwarya Rai Bachchan, Sri Lakshmi...</td>\n",
              "      <td>India</td>\n",
              "      <td>September 21, 2021</td>\n",
              "      <td>1998</td>\n",
              "      <td>TV-14</td>\n",
              "      <td>166 min</td>\n",
              "      <td>Comedies, International Movies, Romantic Movies</td>\n",
              "      <td>When the father of the man she loves insists t...</td>\n",
              "    </tr>\n",
              "    <tr>\n",
              "      <th>25</th>\n",
              "      <td>s26</td>\n",
              "      <td>TV Show</td>\n",
              "      <td>Love on the Spectrum</td>\n",
              "      <td>NaN</td>\n",
              "      <td>Brooke Satchwell</td>\n",
              "      <td>Australia</td>\n",
              "      <td>September 21, 2021</td>\n",
              "      <td>2021</td>\n",
              "      <td>TV-14</td>\n",
              "      <td>2 Seasons</td>\n",
              "      <td>Docuseries, International TV Shows, Reality TV</td>\n",
              "      <td>Finding love can be hard for anyone. For young...</td>\n",
              "    </tr>\n",
              "    <tr>\n",
              "      <th>26</th>\n",
              "      <td>s27</td>\n",
              "      <td>Movie</td>\n",
              "      <td>Minsara Kanavu</td>\n",
              "      <td>Rajiv Menon</td>\n",
              "      <td>Arvind Swamy, Kajol, Prabhu Deva, Nassar, S.P....</td>\n",
              "      <td>NaN</td>\n",
              "      <td>September 21, 2021</td>\n",
              "      <td>1997</td>\n",
              "      <td>TV-PG</td>\n",
              "      <td>147 min</td>\n",
              "      <td>Comedies, International Movies, Music &amp; Musicals</td>\n",
              "      <td>A tangled love triangle ensues when a man fall...</td>\n",
              "    </tr>\n",
              "    <tr>\n",
              "      <th>27</th>\n",
              "      <td>s28</td>\n",
              "      <td>Movie</td>\n",
              "      <td>Grown Ups</td>\n",
              "      <td>Dennis Dugan</td>\n",
              "      <td>Adam Sandler, Kevin James, Chris Rock, David S...</td>\n",
              "      <td>United States</td>\n",
              "      <td>September 20, 2021</td>\n",
              "      <td>2010</td>\n",
              "      <td>PG-13</td>\n",
              "      <td>103 min</td>\n",
              "      <td>Comedies</td>\n",
              "      <td>Mourning the loss of their beloved junior high...</td>\n",
              "    </tr>\n",
              "    <tr>\n",
              "      <th>28</th>\n",
              "      <td>s29</td>\n",
              "      <td>Movie</td>\n",
              "      <td>Dark Skies</td>\n",
              "      <td>Scott Stewart</td>\n",
              "      <td>Keri Russell, Josh Hamilton, J.K. Simmons, Dak...</td>\n",
              "      <td>United States</td>\n",
              "      <td>September 19, 2021</td>\n",
              "      <td>2013</td>\n",
              "      <td>PG-13</td>\n",
              "      <td>97 min</td>\n",
              "      <td>Horror Movies, Sci-Fi &amp; Fantasy</td>\n",
              "      <td>A family’s idyllic suburban life shatters when...</td>\n",
              "    </tr>\n",
              "    <tr>\n",
              "      <th>29</th>\n",
              "      <td>s30</td>\n",
              "      <td>Movie</td>\n",
              "      <td>Paranoia</td>\n",
              "      <td>Robert Luketic</td>\n",
              "      <td>Liam Hemsworth, Gary Oldman, Amber Heard, Harr...</td>\n",
              "      <td>United States, India, France</td>\n",
              "      <td>September 19, 2021</td>\n",
              "      <td>2013</td>\n",
              "      <td>PG-13</td>\n",
              "      <td>106 min</td>\n",
              "      <td>Thrillers</td>\n",
              "      <td>Blackmailed by his company's CEO, a low-level ...</td>\n",
              "    </tr>\n",
              "    <tr>\n",
              "      <th>30</th>\n",
              "      <td>s31</td>\n",
              "      <td>Movie</td>\n",
              "      <td>Ankahi Kahaniya</td>\n",
              "      <td>Ashwiny Iyer Tiwari, Abhishek Chaubey, Saket C...</td>\n",
              "      <td>Abhishek Banerjee, Rinku Rajguru, Delzad Hiwal...</td>\n",
              "      <td>NaN</td>\n",
              "      <td>September 17, 2021</td>\n",
              "      <td>2021</td>\n",
              "      <td>TV-14</td>\n",
              "      <td>111 min</td>\n",
              "      <td>Dramas, Independent Movies, International Movies</td>\n",
              "      <td>As big city life buzzes around them, lonely so...</td>\n",
              "    </tr>\n",
              "    <tr>\n",
              "      <th>31</th>\n",
              "      <td>s32</td>\n",
              "      <td>TV Show</td>\n",
              "      <td>Chicago Party Aunt</td>\n",
              "      <td>NaN</td>\n",
              "      <td>Lauren Ash, Rory O'Malley, RuPaul Charles, Jil...</td>\n",
              "      <td>NaN</td>\n",
              "      <td>September 17, 2021</td>\n",
              "      <td>2021</td>\n",
              "      <td>TV-MA</td>\n",
              "      <td>1 Season</td>\n",
              "      <td>TV Comedies</td>\n",
              "      <td>Chicago Party Aunt Diane is an idolized troubl...</td>\n",
              "    </tr>\n",
              "    <tr>\n",
              "      <th>32</th>\n",
              "      <td>s33</td>\n",
              "      <td>TV Show</td>\n",
              "      <td>Sex Education</td>\n",
              "      <td>NaN</td>\n",
              "      <td>Asa Butterfield, Gillian Anderson, Ncuti Gatwa...</td>\n",
              "      <td>United Kingdom</td>\n",
              "      <td>September 17, 2021</td>\n",
              "      <td>2020</td>\n",
              "      <td>TV-MA</td>\n",
              "      <td>3 Seasons</td>\n",
              "      <td>British TV Shows, International TV Shows, TV C...</td>\n",
              "      <td>Insecure Otis has all the answers when it come...</td>\n",
              "    </tr>\n",
              "    <tr>\n",
              "      <th>33</th>\n",
              "      <td>s34</td>\n",
              "      <td>TV Show</td>\n",
              "      <td>Squid Game</td>\n",
              "      <td>NaN</td>\n",
              "      <td>Lee Jung-jae, Park Hae-soo, Wi Ha-jun, Oh Youn...</td>\n",
              "      <td>NaN</td>\n",
              "      <td>September 17, 2021</td>\n",
              "      <td>2021</td>\n",
              "      <td>TV-MA</td>\n",
              "      <td>1 Season</td>\n",
              "      <td>International TV Shows, TV Dramas, TV Thrillers</td>\n",
              "      <td>Hundreds of cash-strapped players accept a str...</td>\n",
              "    </tr>\n",
              "    <tr>\n",
              "      <th>34</th>\n",
              "      <td>s35</td>\n",
              "      <td>TV Show</td>\n",
              "      <td>Tayo and Little Wizards</td>\n",
              "      <td>NaN</td>\n",
              "      <td>Dami Lee, Jason Lee, Bommie Catherine Han, Jen...</td>\n",
              "      <td>NaN</td>\n",
              "      <td>September 17, 2021</td>\n",
              "      <td>2020</td>\n",
              "      <td>TV-Y7</td>\n",
              "      <td>1 Season</td>\n",
              "      <td>Kids' TV</td>\n",
              "      <td>Tayo speeds into an adventure when his friends...</td>\n",
              "    </tr>\n",
              "    <tr>\n",
              "      <th>35</th>\n",
              "      <td>s36</td>\n",
              "      <td>Movie</td>\n",
              "      <td>The Father Who Moves Mountains</td>\n",
              "      <td>Daniel Sandu</td>\n",
              "      <td>Adrian Titieni, Elena Purea, Judith State, Val...</td>\n",
              "      <td>NaN</td>\n",
              "      <td>September 17, 2021</td>\n",
              "      <td>2021</td>\n",
              "      <td>TV-MA</td>\n",
              "      <td>110 min</td>\n",
              "      <td>Dramas, International Movies, Thrillers</td>\n",
              "      <td>When his son goes missing during a snowy hike ...</td>\n",
              "    </tr>\n",
              "    <tr>\n",
              "      <th>36</th>\n",
              "      <td>s37</td>\n",
              "      <td>Movie</td>\n",
              "      <td>The Stronghold</td>\n",
              "      <td>Cédric Jimenez</td>\n",
              "      <td>Gilles Lellouche, Karim Leklou, François Civil...</td>\n",
              "      <td>NaN</td>\n",
              "      <td>September 17, 2021</td>\n",
              "      <td>2021</td>\n",
              "      <td>TV-MA</td>\n",
              "      <td>105 min</td>\n",
              "      <td>Action &amp; Adventure, Dramas, International Movies</td>\n",
              "      <td>Tired of the small-time grind, three Marseille...</td>\n",
              "    </tr>\n",
              "    <tr>\n",
              "      <th>37</th>\n",
              "      <td>s38</td>\n",
              "      <td>TV Show</td>\n",
              "      <td>Angry Birds</td>\n",
              "      <td>NaN</td>\n",
              "      <td>Antti Pääkkönen, Heljä Heikkinen, Lynne Guagli...</td>\n",
              "      <td>Finland</td>\n",
              "      <td>September 16, 2021</td>\n",
              "      <td>2018</td>\n",
              "      <td>TV-Y7</td>\n",
              "      <td>1 Season</td>\n",
              "      <td>Kids' TV, TV Comedies</td>\n",
              "      <td>Birds Red, Chuck and their feathered friends h...</td>\n",
              "    </tr>\n",
              "    <tr>\n",
              "      <th>38</th>\n",
              "      <td>s39</td>\n",
              "      <td>Movie</td>\n",
              "      <td>Birth of the Dragon</td>\n",
              "      <td>George Nolfi</td>\n",
              "      <td>Billy Magnussen, Ron Yuan, Qu Jingjing, Terry ...</td>\n",
              "      <td>China, Canada, United States</td>\n",
              "      <td>September 16, 2021</td>\n",
              "      <td>2017</td>\n",
              "      <td>PG-13</td>\n",
              "      <td>96 min</td>\n",
              "      <td>Action &amp; Adventure, Dramas</td>\n",
              "      <td>A young Bruce Lee angers kung fu traditionalis...</td>\n",
              "    </tr>\n",
              "    <tr>\n",
              "      <th>39</th>\n",
              "      <td>s40</td>\n",
              "      <td>TV Show</td>\n",
              "      <td>Chhota Bheem</td>\n",
              "      <td>NaN</td>\n",
              "      <td>Vatsal Dubey, Julie Tejwani, Rupa Bhimani, Jig...</td>\n",
              "      <td>India</td>\n",
              "      <td>September 16, 2021</td>\n",
              "      <td>2021</td>\n",
              "      <td>TV-Y7</td>\n",
              "      <td>3 Seasons</td>\n",
              "      <td>Kids' TV</td>\n",
              "      <td>A brave, energetic little boy with superhuman ...</td>\n",
              "    </tr>\n",
              "  </tbody>\n",
              "</table>\n",
              "</div>"
            ],
            "text/plain": [
              "   show_id     type                                              title  \\\n",
              "0       s1    Movie                               Dick Johnson Is Dead   \n",
              "1       s2  TV Show                                      Blood & Water   \n",
              "2       s3  TV Show                                          Ganglands   \n",
              "3       s4  TV Show                              Jailbirds New Orleans   \n",
              "4       s5  TV Show                                       Kota Factory   \n",
              "5       s6  TV Show                                      Midnight Mass   \n",
              "6       s7    Movie                   My Little Pony: A New Generation   \n",
              "7       s8    Movie                                            Sankofa   \n",
              "8       s9  TV Show                      The Great British Baking Show   \n",
              "9      s10    Movie                                       The Starling   \n",
              "10     s11  TV Show                Vendetta: Truth, Lies and The Mafia   \n",
              "11     s12  TV Show                                   Bangkok Breaking   \n",
              "12     s13    Movie                                       Je Suis Karl   \n",
              "13     s14    Movie                   Confessions of an Invisible Girl   \n",
              "14     s15  TV Show                    Crime Stories: India Detectives   \n",
              "15     s16  TV Show                                  Dear White People   \n",
              "16     s17    Movie  Europe's Most Dangerous Man: Otto Skorzeny in ...   \n",
              "17     s18  TV Show                                    Falsa identidad   \n",
              "18     s19    Movie                                          Intrusion   \n",
              "19     s20  TV Show                                             Jaguar   \n",
              "20     s21  TV Show    Monsters Inside: The 24 Faces of Billy Milligan   \n",
              "21     s22  TV Show                             Resurrection: Ertugrul   \n",
              "22     s23    Movie                                    Avvai Shanmughi   \n",
              "23     s24    Movie       Go! Go! Cory Carson: Chrissy Takes the Wheel   \n",
              "24     s25    Movie                                              Jeans   \n",
              "25     s26  TV Show                               Love on the Spectrum   \n",
              "26     s27    Movie                                     Minsara Kanavu   \n",
              "27     s28    Movie                                          Grown Ups   \n",
              "28     s29    Movie                                         Dark Skies   \n",
              "29     s30    Movie                                           Paranoia   \n",
              "30     s31    Movie                                    Ankahi Kahaniya   \n",
              "31     s32  TV Show                                 Chicago Party Aunt   \n",
              "32     s33  TV Show                                      Sex Education   \n",
              "33     s34  TV Show                                         Squid Game   \n",
              "34     s35  TV Show                            Tayo and Little Wizards   \n",
              "35     s36    Movie                     The Father Who Moves Mountains   \n",
              "36     s37    Movie                                     The Stronghold   \n",
              "37     s38  TV Show                                        Angry Birds   \n",
              "38     s39    Movie                                Birth of the Dragon   \n",
              "39     s40  TV Show                                       Chhota Bheem   \n",
              "\n",
              "                                             director  \\\n",
              "0                                     Kirsten Johnson   \n",
              "1                                                 NaN   \n",
              "2                                     Julien Leclercq   \n",
              "3                                                 NaN   \n",
              "4                                                 NaN   \n",
              "5                                       Mike Flanagan   \n",
              "6                       Robert Cullen, José Luis Ucha   \n",
              "7                                        Haile Gerima   \n",
              "8                                     Andy Devonshire   \n",
              "9                                      Theodore Melfi   \n",
              "10                                                NaN   \n",
              "11                                  Kongkiat Komesiri   \n",
              "12                                Christian Schwochow   \n",
              "13                                      Bruno Garotti   \n",
              "14                                                NaN   \n",
              "15                                                NaN   \n",
              "16      Pedro de Echave García, Pablo Azorín Williams   \n",
              "17                                                NaN   \n",
              "18                                         Adam Salky   \n",
              "19                                                NaN   \n",
              "20                                    Olivier Megaton   \n",
              "21                                                NaN   \n",
              "22                                     K.S. Ravikumar   \n",
              "23                            Alex Woo, Stanley Moore   \n",
              "24                                         S. Shankar   \n",
              "25                                                NaN   \n",
              "26                                        Rajiv Menon   \n",
              "27                                       Dennis Dugan   \n",
              "28                                      Scott Stewart   \n",
              "29                                     Robert Luketic   \n",
              "30  Ashwiny Iyer Tiwari, Abhishek Chaubey, Saket C...   \n",
              "31                                                NaN   \n",
              "32                                                NaN   \n",
              "33                                                NaN   \n",
              "34                                                NaN   \n",
              "35                                       Daniel Sandu   \n",
              "36                                     Cédric Jimenez   \n",
              "37                                                NaN   \n",
              "38                                       George Nolfi   \n",
              "39                                                NaN   \n",
              "\n",
              "                                                 cast  \\\n",
              "0                                                 NaN   \n",
              "1   Ama Qamata, Khosi Ngema, Gail Mabalane, Thaban...   \n",
              "2   Sami Bouajila, Tracy Gotoas, Samuel Jouy, Nabi...   \n",
              "3                                                 NaN   \n",
              "4   Mayur More, Jitendra Kumar, Ranjan Raj, Alam K...   \n",
              "5   Kate Siegel, Zach Gilford, Hamish Linklater, H...   \n",
              "6   Vanessa Hudgens, Kimiko Glenn, James Marsden, ...   \n",
              "7   Kofi Ghanaba, Oyafunmike Ogunlano, Alexandra D...   \n",
              "8   Mel Giedroyc, Sue Perkins, Mary Berry, Paul Ho...   \n",
              "9   Melissa McCarthy, Chris O'Dowd, Kevin Kline, T...   \n",
              "10                                                NaN   \n",
              "11  Sukollawat Kanarot, Sushar Manaying, Pavarit M...   \n",
              "12  Luna Wedler, Jannis Niewöhner, Milan Peschel, ...   \n",
              "13  Klara Castanho, Lucca Picon, Júlia Gomes, Marc...   \n",
              "14                                                NaN   \n",
              "15  Logan Browning, Brandon P. Bell, DeRon Horton,...   \n",
              "16                                                NaN   \n",
              "17  Luis Ernesto Franco, Camila Sodi, Sergio Goyri...   \n",
              "18  Freida Pinto, Logan Marshall-Green, Robert Joh...   \n",
              "19  Blanca Suárez, Iván Marcos, Óscar Casas, Adriá...   \n",
              "20                                                NaN   \n",
              "21  Engin Altan Düzyatan, Serdar Gökhan, Hülya Dar...   \n",
              "22  Kamal Hassan, Meena, Gemini Ganesan, Heera Raj...   \n",
              "23  Maisie Benson, Paul Killam, Kerry Gudjohnsen, ...   \n",
              "24  Prashanth, Aishwarya Rai Bachchan, Sri Lakshmi...   \n",
              "25                                   Brooke Satchwell   \n",
              "26  Arvind Swamy, Kajol, Prabhu Deva, Nassar, S.P....   \n",
              "27  Adam Sandler, Kevin James, Chris Rock, David S...   \n",
              "28  Keri Russell, Josh Hamilton, J.K. Simmons, Dak...   \n",
              "29  Liam Hemsworth, Gary Oldman, Amber Heard, Harr...   \n",
              "30  Abhishek Banerjee, Rinku Rajguru, Delzad Hiwal...   \n",
              "31  Lauren Ash, Rory O'Malley, RuPaul Charles, Jil...   \n",
              "32  Asa Butterfield, Gillian Anderson, Ncuti Gatwa...   \n",
              "33  Lee Jung-jae, Park Hae-soo, Wi Ha-jun, Oh Youn...   \n",
              "34  Dami Lee, Jason Lee, Bommie Catherine Han, Jen...   \n",
              "35  Adrian Titieni, Elena Purea, Judith State, Val...   \n",
              "36  Gilles Lellouche, Karim Leklou, François Civil...   \n",
              "37  Antti Pääkkönen, Heljä Heikkinen, Lynne Guagli...   \n",
              "38  Billy Magnussen, Ron Yuan, Qu Jingjing, Terry ...   \n",
              "39  Vatsal Dubey, Julie Tejwani, Rupa Bhimani, Jig...   \n",
              "\n",
              "                                              country          date_added  \\\n",
              "0                                       United States  September 25, 2021   \n",
              "1                                        South Africa  September 24, 2021   \n",
              "2                                                 NaN  September 24, 2021   \n",
              "3                                                 NaN  September 24, 2021   \n",
              "4                                               India  September 24, 2021   \n",
              "5                                                 NaN  September 24, 2021   \n",
              "6                                                 NaN  September 24, 2021   \n",
              "7   United States, Ghana, Burkina Faso, United Kin...  September 24, 2021   \n",
              "8                                      United Kingdom  September 24, 2021   \n",
              "9                                       United States  September 24, 2021   \n",
              "10                                                NaN  September 24, 2021   \n",
              "11                                                NaN  September 23, 2021   \n",
              "12                            Germany, Czech Republic  September 23, 2021   \n",
              "13                                                NaN  September 22, 2021   \n",
              "14                                                NaN  September 22, 2021   \n",
              "15                                      United States  September 22, 2021   \n",
              "16                                                NaN  September 22, 2021   \n",
              "17                                             Mexico  September 22, 2021   \n",
              "18                                                NaN  September 22, 2021   \n",
              "19                                                NaN  September 22, 2021   \n",
              "20                                                NaN  September 22, 2021   \n",
              "21                                             Turkey  September 22, 2021   \n",
              "22                                                NaN  September 21, 2021   \n",
              "23                                                NaN  September 21, 2021   \n",
              "24                                              India  September 21, 2021   \n",
              "25                                          Australia  September 21, 2021   \n",
              "26                                                NaN  September 21, 2021   \n",
              "27                                      United States  September 20, 2021   \n",
              "28                                      United States  September 19, 2021   \n",
              "29                       United States, India, France  September 19, 2021   \n",
              "30                                                NaN  September 17, 2021   \n",
              "31                                                NaN  September 17, 2021   \n",
              "32                                     United Kingdom  September 17, 2021   \n",
              "33                                                NaN  September 17, 2021   \n",
              "34                                                NaN  September 17, 2021   \n",
              "35                                                NaN  September 17, 2021   \n",
              "36                                                NaN  September 17, 2021   \n",
              "37                                            Finland  September 16, 2021   \n",
              "38                       China, Canada, United States  September 16, 2021   \n",
              "39                                              India  September 16, 2021   \n",
              "\n",
              "    release_year rating   duration  \\\n",
              "0           2020  PG-13     90 min   \n",
              "1           2021  TV-MA  2 Seasons   \n",
              "2           2021  TV-MA   1 Season   \n",
              "3           2021  TV-MA   1 Season   \n",
              "4           2021  TV-MA  2 Seasons   \n",
              "5           2021  TV-MA   1 Season   \n",
              "6           2021     PG     91 min   \n",
              "7           1993  TV-MA    125 min   \n",
              "8           2021  TV-14  9 Seasons   \n",
              "9           2021  PG-13    104 min   \n",
              "10          2021  TV-MA   1 Season   \n",
              "11          2021  TV-MA   1 Season   \n",
              "12          2021  TV-MA    127 min   \n",
              "13          2021  TV-PG     91 min   \n",
              "14          2021  TV-MA   1 Season   \n",
              "15          2021  TV-MA  4 Seasons   \n",
              "16          2020  TV-MA     67 min   \n",
              "17          2020  TV-MA  2 Seasons   \n",
              "18          2021  TV-14     94 min   \n",
              "19          2021  TV-MA   1 Season   \n",
              "20          2021  TV-14   1 Season   \n",
              "21          2018  TV-14  5 Seasons   \n",
              "22          1996  TV-PG    161 min   \n",
              "23          2021   TV-Y     61 min   \n",
              "24          1998  TV-14    166 min   \n",
              "25          2021  TV-14  2 Seasons   \n",
              "26          1997  TV-PG    147 min   \n",
              "27          2010  PG-13    103 min   \n",
              "28          2013  PG-13     97 min   \n",
              "29          2013  PG-13    106 min   \n",
              "30          2021  TV-14    111 min   \n",
              "31          2021  TV-MA   1 Season   \n",
              "32          2020  TV-MA  3 Seasons   \n",
              "33          2021  TV-MA   1 Season   \n",
              "34          2020  TV-Y7   1 Season   \n",
              "35          2021  TV-MA    110 min   \n",
              "36          2021  TV-MA    105 min   \n",
              "37          2018  TV-Y7   1 Season   \n",
              "38          2017  PG-13     96 min   \n",
              "39          2021  TV-Y7  3 Seasons   \n",
              "\n",
              "                                            listed_in  \\\n",
              "0                                       Documentaries   \n",
              "1     International TV Shows, TV Dramas, TV Mysteries   \n",
              "2   Crime TV Shows, International TV Shows, TV Act...   \n",
              "3                              Docuseries, Reality TV   \n",
              "4   International TV Shows, Romantic TV Shows, TV ...   \n",
              "5                  TV Dramas, TV Horror, TV Mysteries   \n",
              "6                            Children & Family Movies   \n",
              "7    Dramas, Independent Movies, International Movies   \n",
              "8                        British TV Shows, Reality TV   \n",
              "9                                    Comedies, Dramas   \n",
              "10  Crime TV Shows, Docuseries, International TV S...   \n",
              "11  Crime TV Shows, International TV Shows, TV Act...   \n",
              "12                       Dramas, International Movies   \n",
              "13                 Children & Family Movies, Comedies   \n",
              "14       British TV Shows, Crime TV Shows, Docuseries   \n",
              "15                             TV Comedies, TV Dramas   \n",
              "16                Documentaries, International Movies   \n",
              "17  Crime TV Shows, Spanish-Language TV Shows, TV ...   \n",
              "18                                          Thrillers   \n",
              "19  International TV Shows, Spanish-Language TV Sh...   \n",
              "20  Crime TV Shows, Docuseries, International TV S...   \n",
              "21  International TV Shows, TV Action & Adventure,...   \n",
              "22                     Comedies, International Movies   \n",
              "23                           Children & Family Movies   \n",
              "24    Comedies, International Movies, Romantic Movies   \n",
              "25     Docuseries, International TV Shows, Reality TV   \n",
              "26   Comedies, International Movies, Music & Musicals   \n",
              "27                                           Comedies   \n",
              "28                    Horror Movies, Sci-Fi & Fantasy   \n",
              "29                                          Thrillers   \n",
              "30   Dramas, Independent Movies, International Movies   \n",
              "31                                        TV Comedies   \n",
              "32  British TV Shows, International TV Shows, TV C...   \n",
              "33    International TV Shows, TV Dramas, TV Thrillers   \n",
              "34                                           Kids' TV   \n",
              "35            Dramas, International Movies, Thrillers   \n",
              "36   Action & Adventure, Dramas, International Movies   \n",
              "37                              Kids' TV, TV Comedies   \n",
              "38                         Action & Adventure, Dramas   \n",
              "39                                           Kids' TV   \n",
              "\n",
              "                                          description  \n",
              "0   As her father nears the end of his life, filmm...  \n",
              "1   After crossing paths at a party, a Cape Town t...  \n",
              "2   To protect his family from a powerful drug lor...  \n",
              "3   Feuds, flirtations and toilet talk go down amo...  \n",
              "4   In a city of coaching centers known to train I...  \n",
              "5   The arrival of a charismatic young priest brin...  \n",
              "6   Equestria's divided. But a bright-eyed hero be...  \n",
              "7   On a photo shoot in Ghana, an American model s...  \n",
              "8   A talented batch of amateur bakers face off in...  \n",
              "9   A woman adjusting to life after a loss contend...  \n",
              "10  Sicily boasts a bold \"Anti-Mafia\" coalition. B...  \n",
              "11  Struggling to earn a living in Bangkok, a man ...  \n",
              "12  After most of her family is murdered in a terr...  \n",
              "13  When the clever but socially-awkward Tetê join...  \n",
              "14  Cameras following Bengaluru police on the job ...  \n",
              "15  Students of color navigate the daily slights a...  \n",
              "16  Declassified documents reveal the post-WWII li...  \n",
              "17  Strangers Diego and Isabel flee their home in ...  \n",
              "18  After a deadly home invasion at a couple’s new...  \n",
              "19  In the 1960s, a Holocaust survivor joins a gro...  \n",
              "20  In the late 1970s, an accused serial rapist cl...  \n",
              "21  When a good deed unwittingly endangers his cla...  \n",
              "22  Newly divorced and denied visitation rights wi...  \n",
              "23  From arcade games to sled days and hiccup cure...  \n",
              "24  When the father of the man she loves insists t...  \n",
              "25  Finding love can be hard for anyone. For young...  \n",
              "26  A tangled love triangle ensues when a man fall...  \n",
              "27  Mourning the loss of their beloved junior high...  \n",
              "28  A family’s idyllic suburban life shatters when...  \n",
              "29  Blackmailed by his company's CEO, a low-level ...  \n",
              "30  As big city life buzzes around them, lonely so...  \n",
              "31  Chicago Party Aunt Diane is an idolized troubl...  \n",
              "32  Insecure Otis has all the answers when it come...  \n",
              "33  Hundreds of cash-strapped players accept a str...  \n",
              "34  Tayo speeds into an adventure when his friends...  \n",
              "35  When his son goes missing during a snowy hike ...  \n",
              "36  Tired of the small-time grind, three Marseille...  \n",
              "37  Birds Red, Chuck and their feathered friends h...  \n",
              "38  A young Bruce Lee angers kung fu traditionalis...  \n",
              "39  A brave, energetic little boy with superhuman ...  "
            ]
          },
          "execution_count": 5,
          "metadata": {},
          "output_type": "execute_result"
        }
      ],
      "source": [
        "netflix.head(40)\n"
      ]
    },
    {
      "cell_type": "markdown",
      "metadata": {
        "id": "b_dPOop7uTc8"
      },
      "source": [
        "## **Exploratory Data**"
      ]
    },
    {
      "cell_type": "code",
      "execution_count": 8,
      "metadata": {
        "colab": {
          "base_uri": "https://localhost:8080/"
        },
        "id": "EJAYKc3QuVXd",
        "outputId": "95f436a6-0e9c-4887-c2d7-f92c02de7d2b"
      },
      "outputs": [
        {
          "name": "stdout",
          "output_type": "stream",
          "text": [
            "column : 12\n",
            "row : 8807\n"
          ]
        }
      ],
      "source": [
        "print(f'column : {netflix.shape[1]}')\n",
        "print(f'row : {netflix.shape[0]}')\n"
      ]
    },
    {
      "cell_type": "code",
      "execution_count": 9,
      "metadata": {
        "colab": {
          "base_uri": "https://localhost:8080/"
        },
        "id": "IaRmw5lYu07t",
        "outputId": "f344a049-4d11-4f5c-e687-65ce86ce6585"
      },
      "outputs": [
        {
          "name": "stdout",
          "output_type": "stream",
          "text": [
            "<class 'pandas.core.frame.DataFrame'>\n",
            "RangeIndex: 8807 entries, 0 to 8806\n",
            "Data columns (total 12 columns):\n",
            " #   Column        Non-Null Count  Dtype \n",
            "---  ------        --------------  ----- \n",
            " 0   show_id       8807 non-null   object\n",
            " 1   type          8807 non-null   object\n",
            " 2   title         8807 non-null   object\n",
            " 3   director      6173 non-null   object\n",
            " 4   cast          7982 non-null   object\n",
            " 5   country       7976 non-null   object\n",
            " 6   date_added    8797 non-null   object\n",
            " 7   release_year  8807 non-null   int64 \n",
            " 8   rating        8803 non-null   object\n",
            " 9   duration      8804 non-null   object\n",
            " 10  listed_in     8807 non-null   object\n",
            " 11  description   8807 non-null   object\n",
            "dtypes: int64(1), object(11)\n",
            "memory usage: 825.8+ KB\n"
          ]
        }
      ],
      "source": [
        "netflix.info()"
      ]
    },
    {
      "cell_type": "code",
      "execution_count": 10,
      "metadata": {
        "colab": {
          "base_uri": "https://localhost:8080/",
          "height": 300
        },
        "id": "zWN5CdW6whKc",
        "outputId": "9b35c871-2db1-4ef2-e112-c80971ce29fa"
      },
      "outputs": [
        {
          "data": {
            "application/vnd.microsoft.datawrangler.viewer.v0+json": {
              "columns": [
                {
                  "name": "index",
                  "rawType": "object",
                  "type": "string"
                },
                {
                  "name": "release_year",
                  "rawType": "float64",
                  "type": "float"
                }
              ],
              "ref": "fdb0b197-3a3b-4832-88a1-9f762bf724d6",
              "rows": [
                [
                  "count",
                  "8807.0"
                ],
                [
                  "mean",
                  "2014.1801975701146"
                ],
                [
                  "std",
                  "8.819312130834057"
                ],
                [
                  "min",
                  "1925.0"
                ],
                [
                  "25%",
                  "2013.0"
                ],
                [
                  "50%",
                  "2017.0"
                ],
                [
                  "75%",
                  "2019.0"
                ],
                [
                  "max",
                  "2021.0"
                ]
              ],
              "shape": {
                "columns": 1,
                "rows": 8
              }
            },
            "text/html": [
              "<div>\n",
              "<style scoped>\n",
              "    .dataframe tbody tr th:only-of-type {\n",
              "        vertical-align: middle;\n",
              "    }\n",
              "\n",
              "    .dataframe tbody tr th {\n",
              "        vertical-align: top;\n",
              "    }\n",
              "\n",
              "    .dataframe thead th {\n",
              "        text-align: right;\n",
              "    }\n",
              "</style>\n",
              "<table border=\"1\" class=\"dataframe\">\n",
              "  <thead>\n",
              "    <tr style=\"text-align: right;\">\n",
              "      <th></th>\n",
              "      <th>release_year</th>\n",
              "    </tr>\n",
              "  </thead>\n",
              "  <tbody>\n",
              "    <tr>\n",
              "      <th>count</th>\n",
              "      <td>8807.000000</td>\n",
              "    </tr>\n",
              "    <tr>\n",
              "      <th>mean</th>\n",
              "      <td>2014.180198</td>\n",
              "    </tr>\n",
              "    <tr>\n",
              "      <th>std</th>\n",
              "      <td>8.819312</td>\n",
              "    </tr>\n",
              "    <tr>\n",
              "      <th>min</th>\n",
              "      <td>1925.000000</td>\n",
              "    </tr>\n",
              "    <tr>\n",
              "      <th>25%</th>\n",
              "      <td>2013.000000</td>\n",
              "    </tr>\n",
              "    <tr>\n",
              "      <th>50%</th>\n",
              "      <td>2017.000000</td>\n",
              "    </tr>\n",
              "    <tr>\n",
              "      <th>75%</th>\n",
              "      <td>2019.000000</td>\n",
              "    </tr>\n",
              "    <tr>\n",
              "      <th>max</th>\n",
              "      <td>2021.000000</td>\n",
              "    </tr>\n",
              "  </tbody>\n",
              "</table>\n",
              "</div>"
            ],
            "text/plain": [
              "       release_year\n",
              "count   8807.000000\n",
              "mean    2014.180198\n",
              "std        8.819312\n",
              "min     1925.000000\n",
              "25%     2013.000000\n",
              "50%     2017.000000\n",
              "75%     2019.000000\n",
              "max     2021.000000"
            ]
          },
          "execution_count": 10,
          "metadata": {},
          "output_type": "execute_result"
        }
      ],
      "source": [
        "netflix.describe()"
      ]
    },
    {
      "cell_type": "code",
      "execution_count": 11,
      "metadata": {
        "colab": {
          "base_uri": "https://localhost:8080/",
          "height": 460
        },
        "id": "rGTYxzdewql_",
        "outputId": "834e8567-b497-436b-caa9-d70c253130e7"
      },
      "outputs": [
        {
          "data": {
            "application/vnd.microsoft.datawrangler.viewer.v0+json": {
              "columns": [
                {
                  "name": "index",
                  "rawType": "object",
                  "type": "string"
                },
                {
                  "name": "0",
                  "rawType": "int64",
                  "type": "integer"
                }
              ],
              "ref": "81e025f2-1caf-4942-959e-868e5acfbd56",
              "rows": [
                [
                  "show_id",
                  "8807"
                ],
                [
                  "type",
                  "2"
                ],
                [
                  "title",
                  "8807"
                ],
                [
                  "director",
                  "4528"
                ],
                [
                  "cast",
                  "7692"
                ],
                [
                  "country",
                  "748"
                ],
                [
                  "date_added",
                  "1767"
                ],
                [
                  "release_year",
                  "74"
                ],
                [
                  "rating",
                  "17"
                ],
                [
                  "duration",
                  "220"
                ],
                [
                  "listed_in",
                  "514"
                ],
                [
                  "description",
                  "8775"
                ]
              ],
              "shape": {
                "columns": 1,
                "rows": 12
              }
            },
            "text/plain": [
              "show_id         8807\n",
              "type               2\n",
              "title           8807\n",
              "director        4528\n",
              "cast            7692\n",
              "country          748\n",
              "date_added      1767\n",
              "release_year      74\n",
              "rating            17\n",
              "duration         220\n",
              "listed_in        514\n",
              "description     8775\n",
              "dtype: int64"
            ]
          },
          "execution_count": 11,
          "metadata": {},
          "output_type": "execute_result"
        }
      ],
      "source": [
        "netflix.nunique()"
      ]
    },
    {
      "cell_type": "code",
      "execution_count": 12,
      "metadata": {
        "colab": {
          "base_uri": "https://localhost:8080/",
          "height": 460
        },
        "id": "UgpR6oc1wzI_",
        "outputId": "59a50c9e-6aab-497e-abd8-6f60c5508db4"
      },
      "outputs": [
        {
          "data": {
            "application/vnd.microsoft.datawrangler.viewer.v0+json": {
              "columns": [
                {
                  "name": "index",
                  "rawType": "object",
                  "type": "string"
                },
                {
                  "name": "0",
                  "rawType": "int64",
                  "type": "integer"
                }
              ],
              "ref": "aad20312-28d1-41ae-bd9d-17dcdc3338de",
              "rows": [
                [
                  "show_id",
                  "0"
                ],
                [
                  "type",
                  "0"
                ],
                [
                  "title",
                  "0"
                ],
                [
                  "director",
                  "2634"
                ],
                [
                  "cast",
                  "825"
                ],
                [
                  "country",
                  "831"
                ],
                [
                  "date_added",
                  "10"
                ],
                [
                  "release_year",
                  "0"
                ],
                [
                  "rating",
                  "4"
                ],
                [
                  "duration",
                  "3"
                ],
                [
                  "listed_in",
                  "0"
                ],
                [
                  "description",
                  "0"
                ]
              ],
              "shape": {
                "columns": 1,
                "rows": 12
              }
            },
            "text/plain": [
              "show_id            0\n",
              "type               0\n",
              "title              0\n",
              "director        2634\n",
              "cast             825\n",
              "country          831\n",
              "date_added        10\n",
              "release_year       0\n",
              "rating             4\n",
              "duration           3\n",
              "listed_in          0\n",
              "description        0\n",
              "dtype: int64"
            ]
          },
          "execution_count": 12,
          "metadata": {},
          "output_type": "execute_result"
        }
      ],
      "source": [
        "netflix.isnull().sum()"
      ]
    },
    {
      "cell_type": "code",
      "execution_count": 13,
      "metadata": {
        "colab": {
          "base_uri": "https://localhost:8080/"
        },
        "id": "JWOoLVK9w5D6",
        "outputId": "4b196681-31dc-4b7a-d17c-c5c1d354d5be"
      },
      "outputs": [
        {
          "data": {
            "text/plain": [
              "0"
            ]
          },
          "execution_count": 13,
          "metadata": {},
          "output_type": "execute_result"
        }
      ],
      "source": [
        "netflix.duplicated().sum()"
      ]
    },
    {
      "cell_type": "markdown",
      "metadata": {
        "id": "TwiWE_iuxIZm"
      },
      "source": [
        "## **Cleaning**\n",
        "### **DataType**"
      ]
    },
    {
      "cell_type": "code",
      "execution_count": 14,
      "metadata": {
        "colab": {
          "base_uri": "https://localhost:8080/",
          "height": 466
        },
        "id": "BJo00pOXxQfl",
        "outputId": "d5bdeb36-b609-4734-f126-903c9ca7f5ff"
      },
      "outputs": [
        {
          "data": {
            "application/vnd.microsoft.datawrangler.viewer.v0+json": {
              "columns": [
                {
                  "name": "index",
                  "rawType": "int64",
                  "type": "integer"
                },
                {
                  "name": "show_id",
                  "rawType": "object",
                  "type": "string"
                },
                {
                  "name": "type",
                  "rawType": "object",
                  "type": "string"
                },
                {
                  "name": "title",
                  "rawType": "object",
                  "type": "string"
                },
                {
                  "name": "director",
                  "rawType": "object",
                  "type": "unknown"
                },
                {
                  "name": "cast",
                  "rawType": "object",
                  "type": "unknown"
                },
                {
                  "name": "country",
                  "rawType": "object",
                  "type": "unknown"
                },
                {
                  "name": "date_added",
                  "rawType": "object",
                  "type": "string"
                },
                {
                  "name": "release_year",
                  "rawType": "int64",
                  "type": "integer"
                },
                {
                  "name": "rating",
                  "rawType": "object",
                  "type": "string"
                },
                {
                  "name": "duration",
                  "rawType": "object",
                  "type": "string"
                },
                {
                  "name": "listed_in",
                  "rawType": "object",
                  "type": "string"
                },
                {
                  "name": "description",
                  "rawType": "object",
                  "type": "string"
                }
              ],
              "ref": "6c67d4b3-3643-4d1b-a902-441032bb0738",
              "rows": [
                [
                  "0",
                  "s1",
                  "Movie",
                  "Dick Johnson Is Dead",
                  "Kirsten Johnson",
                  null,
                  "United States",
                  "September 25, 2021",
                  "2020",
                  "PG-13",
                  "90 min",
                  "Documentaries",
                  "As her father nears the end of his life, filmmaker Kirsten Johnson stages his death in inventive and comical ways to help them both face the inevitable."
                ],
                [
                  "1",
                  "s2",
                  "TV Show",
                  "Blood & Water",
                  null,
                  "Ama Qamata, Khosi Ngema, Gail Mabalane, Thabang Molaba, Dillon Windvogel, Natasha Thahane, Arno Greeff, Xolile Tshabalala, Getmore Sithole, Cindy Mahlangu, Ryle De Morny, Greteli Fincham, Sello Maake Ka-Ncube, Odwa Gwanya, Mekaila Mathys, Sandi Schultz, Duane Williams, Shamilla Miller, Patrick Mofokeng",
                  "South Africa",
                  "September 24, 2021",
                  "2021",
                  "TV-MA",
                  "2 Seasons",
                  "International TV Shows, TV Dramas, TV Mysteries",
                  "After crossing paths at a party, a Cape Town teen sets out to prove whether a private-school swimming star is her sister who was abducted at birth."
                ],
                [
                  "2",
                  "s3",
                  "TV Show",
                  "Ganglands",
                  "Julien Leclercq",
                  "Sami Bouajila, Tracy Gotoas, Samuel Jouy, Nabiha Akkari, Sofia Lesaffre, Salim Kechiouche, Noureddine Farihi, Geert Van Rampelberg, Bakary Diombera",
                  null,
                  "September 24, 2021",
                  "2021",
                  "TV-MA",
                  "1 Season",
                  "Crime TV Shows, International TV Shows, TV Action & Adventure",
                  "To protect his family from a powerful drug lord, skilled thief Mehdi and his expert team of robbers are pulled into a violent and deadly turf war."
                ],
                [
                  "3",
                  "s4",
                  "TV Show",
                  "Jailbirds New Orleans",
                  null,
                  null,
                  null,
                  "September 24, 2021",
                  "2021",
                  "TV-MA",
                  "1 Season",
                  "Docuseries, Reality TV",
                  "Feuds, flirtations and toilet talk go down among the incarcerated women at the Orleans Justice Center in New Orleans on this gritty reality series."
                ],
                [
                  "4",
                  "s5",
                  "TV Show",
                  "Kota Factory",
                  null,
                  "Mayur More, Jitendra Kumar, Ranjan Raj, Alam Khan, Ahsaas Channa, Revathi Pillai, Urvi Singh, Arun Kumar",
                  "India",
                  "September 24, 2021",
                  "2021",
                  "TV-MA",
                  "2 Seasons",
                  "International TV Shows, Romantic TV Shows, TV Comedies",
                  "In a city of coaching centers known to train India’s finest collegiate minds, an earnest but unexceptional student and his friends navigate campus life."
                ]
              ],
              "shape": {
                "columns": 12,
                "rows": 5
              }
            },
            "text/html": [
              "<div>\n",
              "<style scoped>\n",
              "    .dataframe tbody tr th:only-of-type {\n",
              "        vertical-align: middle;\n",
              "    }\n",
              "\n",
              "    .dataframe tbody tr th {\n",
              "        vertical-align: top;\n",
              "    }\n",
              "\n",
              "    .dataframe thead th {\n",
              "        text-align: right;\n",
              "    }\n",
              "</style>\n",
              "<table border=\"1\" class=\"dataframe\">\n",
              "  <thead>\n",
              "    <tr style=\"text-align: right;\">\n",
              "      <th></th>\n",
              "      <th>show_id</th>\n",
              "      <th>type</th>\n",
              "      <th>title</th>\n",
              "      <th>director</th>\n",
              "      <th>cast</th>\n",
              "      <th>country</th>\n",
              "      <th>date_added</th>\n",
              "      <th>release_year</th>\n",
              "      <th>rating</th>\n",
              "      <th>duration</th>\n",
              "      <th>listed_in</th>\n",
              "      <th>description</th>\n",
              "    </tr>\n",
              "  </thead>\n",
              "  <tbody>\n",
              "    <tr>\n",
              "      <th>0</th>\n",
              "      <td>s1</td>\n",
              "      <td>Movie</td>\n",
              "      <td>Dick Johnson Is Dead</td>\n",
              "      <td>Kirsten Johnson</td>\n",
              "      <td>NaN</td>\n",
              "      <td>United States</td>\n",
              "      <td>September 25, 2021</td>\n",
              "      <td>2020</td>\n",
              "      <td>PG-13</td>\n",
              "      <td>90 min</td>\n",
              "      <td>Documentaries</td>\n",
              "      <td>As her father nears the end of his life, filmm...</td>\n",
              "    </tr>\n",
              "    <tr>\n",
              "      <th>1</th>\n",
              "      <td>s2</td>\n",
              "      <td>TV Show</td>\n",
              "      <td>Blood &amp; Water</td>\n",
              "      <td>NaN</td>\n",
              "      <td>Ama Qamata, Khosi Ngema, Gail Mabalane, Thaban...</td>\n",
              "      <td>South Africa</td>\n",
              "      <td>September 24, 2021</td>\n",
              "      <td>2021</td>\n",
              "      <td>TV-MA</td>\n",
              "      <td>2 Seasons</td>\n",
              "      <td>International TV Shows, TV Dramas, TV Mysteries</td>\n",
              "      <td>After crossing paths at a party, a Cape Town t...</td>\n",
              "    </tr>\n",
              "    <tr>\n",
              "      <th>2</th>\n",
              "      <td>s3</td>\n",
              "      <td>TV Show</td>\n",
              "      <td>Ganglands</td>\n",
              "      <td>Julien Leclercq</td>\n",
              "      <td>Sami Bouajila, Tracy Gotoas, Samuel Jouy, Nabi...</td>\n",
              "      <td>NaN</td>\n",
              "      <td>September 24, 2021</td>\n",
              "      <td>2021</td>\n",
              "      <td>TV-MA</td>\n",
              "      <td>1 Season</td>\n",
              "      <td>Crime TV Shows, International TV Shows, TV Act...</td>\n",
              "      <td>To protect his family from a powerful drug lor...</td>\n",
              "    </tr>\n",
              "    <tr>\n",
              "      <th>3</th>\n",
              "      <td>s4</td>\n",
              "      <td>TV Show</td>\n",
              "      <td>Jailbirds New Orleans</td>\n",
              "      <td>NaN</td>\n",
              "      <td>NaN</td>\n",
              "      <td>NaN</td>\n",
              "      <td>September 24, 2021</td>\n",
              "      <td>2021</td>\n",
              "      <td>TV-MA</td>\n",
              "      <td>1 Season</td>\n",
              "      <td>Docuseries, Reality TV</td>\n",
              "      <td>Feuds, flirtations and toilet talk go down amo...</td>\n",
              "    </tr>\n",
              "    <tr>\n",
              "      <th>4</th>\n",
              "      <td>s5</td>\n",
              "      <td>TV Show</td>\n",
              "      <td>Kota Factory</td>\n",
              "      <td>NaN</td>\n",
              "      <td>Mayur More, Jitendra Kumar, Ranjan Raj, Alam K...</td>\n",
              "      <td>India</td>\n",
              "      <td>September 24, 2021</td>\n",
              "      <td>2021</td>\n",
              "      <td>TV-MA</td>\n",
              "      <td>2 Seasons</td>\n",
              "      <td>International TV Shows, Romantic TV Shows, TV ...</td>\n",
              "      <td>In a city of coaching centers known to train I...</td>\n",
              "    </tr>\n",
              "  </tbody>\n",
              "</table>\n",
              "</div>"
            ],
            "text/plain": [
              "  show_id     type                  title         director  \\\n",
              "0      s1    Movie   Dick Johnson Is Dead  Kirsten Johnson   \n",
              "1      s2  TV Show          Blood & Water              NaN   \n",
              "2      s3  TV Show              Ganglands  Julien Leclercq   \n",
              "3      s4  TV Show  Jailbirds New Orleans              NaN   \n",
              "4      s5  TV Show           Kota Factory              NaN   \n",
              "\n",
              "                                                cast        country  \\\n",
              "0                                                NaN  United States   \n",
              "1  Ama Qamata, Khosi Ngema, Gail Mabalane, Thaban...   South Africa   \n",
              "2  Sami Bouajila, Tracy Gotoas, Samuel Jouy, Nabi...            NaN   \n",
              "3                                                NaN            NaN   \n",
              "4  Mayur More, Jitendra Kumar, Ranjan Raj, Alam K...          India   \n",
              "\n",
              "           date_added  release_year rating   duration  \\\n",
              "0  September 25, 2021          2020  PG-13     90 min   \n",
              "1  September 24, 2021          2021  TV-MA  2 Seasons   \n",
              "2  September 24, 2021          2021  TV-MA   1 Season   \n",
              "3  September 24, 2021          2021  TV-MA   1 Season   \n",
              "4  September 24, 2021          2021  TV-MA  2 Seasons   \n",
              "\n",
              "                                           listed_in  \\\n",
              "0                                      Documentaries   \n",
              "1    International TV Shows, TV Dramas, TV Mysteries   \n",
              "2  Crime TV Shows, International TV Shows, TV Act...   \n",
              "3                             Docuseries, Reality TV   \n",
              "4  International TV Shows, Romantic TV Shows, TV ...   \n",
              "\n",
              "                                         description  \n",
              "0  As her father nears the end of his life, filmm...  \n",
              "1  After crossing paths at a party, a Cape Town t...  \n",
              "2  To protect his family from a powerful drug lor...  \n",
              "3  Feuds, flirtations and toilet talk go down amo...  \n",
              "4  In a city of coaching centers known to train I...  "
            ]
          },
          "execution_count": 14,
          "metadata": {},
          "output_type": "execute_result"
        }
      ],
      "source": [
        "netflix.head()"
      ]
    },
    {
      "cell_type": "markdown",
      "metadata": {
        "id": "wZ5vcdw7xi2o"
      },
      "source": [
        "#### **date_added to datetime**"
      ]
    },
    {
      "cell_type": "code",
      "execution_count": 15,
      "metadata": {
        "colab": {
          "base_uri": "https://localhost:8080/"
        },
        "id": "isvpMB-AxlFd",
        "outputId": "3b59c5b2-6f90-48f0-fab3-f5da0707fa87"
      },
      "outputs": [
        {
          "name": "stdout",
          "output_type": "stream",
          "text": [
            "<class 'pandas.core.frame.DataFrame'>\n",
            "RangeIndex: 8807 entries, 0 to 8806\n",
            "Data columns (total 12 columns):\n",
            " #   Column        Non-Null Count  Dtype         \n",
            "---  ------        --------------  -----         \n",
            " 0   show_id       8807 non-null   object        \n",
            " 1   type          8807 non-null   object        \n",
            " 2   title         8807 non-null   object        \n",
            " 3   director      6173 non-null   object        \n",
            " 4   cast          7982 non-null   object        \n",
            " 5   country       7976 non-null   object        \n",
            " 6   date_added    8709 non-null   datetime64[ns]\n",
            " 7   release_year  8807 non-null   int64         \n",
            " 8   rating        8803 non-null   object        \n",
            " 9   duration      8804 non-null   object        \n",
            " 10  listed_in     8807 non-null   object        \n",
            " 11  description   8807 non-null   object        \n",
            "dtypes: datetime64[ns](1), int64(1), object(10)\n",
            "memory usage: 825.8+ KB\n"
          ]
        }
      ],
      "source": [
        "netflix['date_added'] = pd.to_datetime(netflix['date_added'], errors='coerce')\n",
        "netflix.info()"
      ]
    },
    {
      "cell_type": "markdown",
      "metadata": {
        "id": "MLsfz44PyQv6"
      },
      "source": [
        "### **type          , rating        to category **"
      ]
    },
    {
      "cell_type": "code",
      "execution_count": 16,
      "metadata": {
        "colab": {
          "base_uri": "https://localhost:8080/"
        },
        "id": "_VsKZdJaycY1",
        "outputId": "6e1011db-b6ec-4cfa-d9ed-8b6ed81e8a26"
      },
      "outputs": [
        {
          "name": "stdout",
          "output_type": "stream",
          "text": [
            "value in type : ['Movie' 'TV Show']\n",
            "value in rating : ['PG-13' 'TV-MA' 'PG' 'TV-14' 'TV-PG' 'TV-Y' 'TV-Y7' 'R' 'TV-G' 'G'\n",
            " 'NC-17' '74 min' '84 min' '66 min' 'NR' nan 'TV-Y7-FV' 'UR']\n"
          ]
        }
      ],
      "source": [
        "print(f'value in type : {netflix[\"type\"].unique()}')\n",
        "print(f'value in rating : {netflix[\"rating\"].unique()}')\n"
      ]
    },
    {
      "cell_type": "code",
      "execution_count": 17,
      "metadata": {
        "colab": {
          "base_uri": "https://localhost:8080/"
        },
        "id": "rbnngGjR1DiU",
        "outputId": "95eb8226-4615-4ba2-ce82-cd2ee7e4341f"
      },
      "outputs": [
        {
          "name": "stdout",
          "output_type": "stream",
          "text": [
            "value in country : ['United States' 'South Africa' nan 'India'\n",
            " 'United States, Ghana, Burkina Faso, United Kingdom, Germany, Ethiopia'\n",
            " 'United Kingdom' 'Germany, Czech Republic' 'Mexico' 'Turkey' 'Australia'\n",
            " 'United States, India, France' 'Finland' 'China, Canada, United States'\n",
            " 'South Africa, United States, Japan' 'Nigeria' 'Japan'\n",
            " 'Spain, United States' 'France' 'Belgium' 'United Kingdom, United States'\n",
            " 'United States, United Kingdom' 'France, United States' 'South Korea'\n",
            " 'Spain' 'United States, Singapore' 'United Kingdom, Australia, France'\n",
            " 'United Kingdom, Australia, France, United States'\n",
            " 'United States, Canada' 'Germany, United States'\n",
            " 'South Africa, United States' 'United States, Mexico'\n",
            " 'United States, Italy, France, Japan'\n",
            " 'United States, Italy, Romania, United Kingdom'\n",
            " 'Australia, United States' 'Argentina, Venezuela'\n",
            " 'United States, United Kingdom, Canada' 'China, Hong Kong' 'Russia'\n",
            " 'Canada' 'Hong Kong' 'United States, China, Hong Kong'\n",
            " 'Italy, United States' 'United States, Germany'\n",
            " 'United Kingdom, Canada, United States' ', South Korea' 'Ireland'\n",
            " 'India, Nepal' 'New Zealand, Australia, France, United States' 'Italy'\n",
            " 'Italy, Brazil, Greece' 'Argentina' 'Jordan' 'Colombia'\n",
            " 'United States, Japan' 'Belgium, United Kingdom'\n",
            " 'Switzerland, United Kingdom, Australia' 'Israel, United States'\n",
            " 'Canada, United States' 'Brazil' 'Argentina, Spain' 'Taiwan'\n",
            " 'United States, Nigeria' 'Bulgaria, United States'\n",
            " 'Spain, United Kingdom, United States' 'United States, China'\n",
            " 'United States, France' 'Spain, France, United Kingdom, United States'\n",
            " ', France, Algeria' 'Poland' 'Germany'\n",
            " 'France, Israel, Germany, United States, United Kingdom' 'New Zealand'\n",
            " 'Saudi Arabia' 'Thailand' 'Indonesia' 'Egypt, Denmark, Germany'\n",
            " 'United States, Switzerland' 'Hong Kong, Canada, United States'\n",
            " 'Kuwait, United States' 'France, Canada, United States, Spain'\n",
            " 'France, Netherlands, Singapore' 'France, Belgium'\n",
            " 'Ireland, United States, United Kingdom' 'Egypt' 'Malaysia' 'Israel'\n",
            " 'Australia, New Zealand' 'United Kingdom, Germany' 'Belgium, Netherlands'\n",
            " 'South Korea, Czech Republic' 'Australia, Germany' 'Vietnam'\n",
            " 'United Kingdom, Belgium' 'United Kingdom, Australia, United States'\n",
            " 'France, Japan, United States'\n",
            " 'United Kingdom, Germany, Spain, United States'\n",
            " 'United Kingdom, United States, France, Italy'\n",
            " 'United States, Germany, Canada'\n",
            " 'United States, France, Italy, United Kingdom'\n",
            " 'United States, United Kingdom, Germany, Hungary'\n",
            " 'United States, New Zealand' 'Sweden' 'China' 'Lebanon' 'Romania'\n",
            " 'Finland, Germany' 'Lebanon, Syria' 'Philippines' 'Iceland' 'Denmark'\n",
            " 'United States, India' 'Philippines, Singapore, Indonesia'\n",
            " 'China, United States, Canada' 'Lebanon, United Arab Emirates'\n",
            " 'Canada, United States, Denmark' 'United Arab Emirates'\n",
            " 'Mexico, France, Colombia' 'Netherlands' 'Germany, United States, France'\n",
            " 'United States, Bulgaria'\n",
            " 'United Kingdom, France, Germany, United States' 'Norway, Denmark'\n",
            " 'Syria, France, Lebanon, Qatar' 'United States, Czech Republic'\n",
            " 'Mauritius' 'Canada, South Africa' 'Austria' 'Mexico, Brazil'\n",
            " 'Germany, France' 'Mexico, United States'\n",
            " 'United Kingdom, France, Spain, United States' 'United States, Australia'\n",
            " 'United States, United Kingdom, France' 'United States, Russia'\n",
            " 'United States, United Kingdom, New Zealand' 'Australia, United Kingdom'\n",
            " 'Canada, Nigeria, United States'\n",
            " 'France, United States, United Kingdom, Canada' 'France, United Kingdom'\n",
            " 'India, United Kingdom' 'Canada, United States, Mexico'\n",
            " 'United Kingdom, Germany, United States'\n",
            " 'Czech Republic, United Kingdom, United States' 'China, United Kingdom'\n",
            " 'Italy, United Kingdom' 'China, Taiwan'\n",
            " 'United States, Brazil, Japan, Spain, India'\n",
            " 'United States, China, United Kingdom' 'Cameroon'\n",
            " 'Lebanon, Palestine, Denmark, Qatar' 'Japan, United States'\n",
            " 'Uruguay, Germany' 'Egypt, Saudi Arabia'\n",
            " 'United Kingdom, France, Poland, Germany, United States'\n",
            " 'Ireland, Switzerland, United Kingdom, France, United States'\n",
            " 'United Kingdom, South Africa, France'\n",
            " 'Ireland, United Kingdom, France, Germany' 'Russia, United States'\n",
            " 'United Kingdom, United States, France' 'United Kingdom,'\n",
            " 'United States, India, United Kingdom' 'Kenya' 'Spain, Argentina'\n",
            " 'India, United Kingdom, France, Qatar' 'Belgium, France'\n",
            " 'Argentina, Chile' 'United States, Thailand' 'Chile, Brazil'\n",
            " 'United States, Colombia' 'Canada, United States, United Kingdom'\n",
            " 'Uruguay' 'Luxembourg' 'United States, Cambodia, Romania' 'Bangladesh'\n",
            " 'Spain, Belgium, United States'\n",
            " 'United Kingdom, United States, Australia'\n",
            " 'Canada, United States, France' 'Portugal, United States'\n",
            " 'Portugal, Spain' 'India, United States' 'United Kingdom, Ireland'\n",
            " 'United Kingdom, Spain, United States' 'Hungary, United States'\n",
            " 'United States, South Korea' 'Canada, United States, Cayman Islands'\n",
            " 'India, France' 'France, Canada' 'Canada, Hungary, United States'\n",
            " 'Norway' 'Canada, United Kingdom, United States'\n",
            " 'United Kingdom, Germany, France, United States' 'Denmark, United States'\n",
            " 'Senegal' 'France, Algeria'\n",
            " 'United Kingdom, Finland, Germany, United States, Australia, Japan, France, Ireland'\n",
            " 'Philippines, Canada, United Kingdom, United States'\n",
            " 'Ireland, France, Iceland, United States, Mexico, Belgium, United Kingdom, Hong Kong'\n",
            " 'Singapore' 'Kuwait' 'United States, France, Serbia'\n",
            " 'United States, Italy' 'Spain, Italy'\n",
            " 'United States, Ireland, United Kingdom, India'\n",
            " 'United Kingdom, Singapore' 'Hong Kong, United States'\n",
            " 'United States, Malta, France, United Kingdom'\n",
            " 'United States, China, Canada' 'Canada, United States, Ireland'\n",
            " 'Lebanon, Canada, France' 'Japan, Canada, United States'\n",
            " 'Spain, France, Canada' 'Denmark, Singapore, Canada, United States'\n",
            " 'United States, France, Denmark' 'United States, China, Colombia'\n",
            " 'Spain, Thailand, United States' 'Mexico, Spain'\n",
            " 'Ireland, Luxembourg, Belgium' 'China, United States' 'Canada, Belgium'\n",
            " 'Canada, United Kingdom'\n",
            " 'Lebanon, United Arab Emirates, France, Switzerland, Germany'\n",
            " 'France, Belgium, Italy' 'Lebanon, United States, United Arab Emirates'\n",
            " 'Lebanon, France' 'France, Lebanon' 'France, Lebanon, United Kingdom'\n",
            " 'France, Norway, Lebanon, Belgium'\n",
            " 'Sweden, Czech Republic, United Kingdom, Denmark, Netherlands'\n",
            " 'United States, United Kingdom, India' 'Indonesia, Netherlands'\n",
            " 'Turkey, South Korea' 'Serbia, United States' 'Namibia'\n",
            " 'United Kingdom, Kenya' 'United Kingdom, France, Germany, Spain'\n",
            " 'United Kingdom, France, United States, Belgium, Luxembourg, China, Germany'\n",
            " 'Thailand, United States' 'United States, France, Canada, Belgium'\n",
            " 'United Kingdom, China' 'Germany, China, United Kingdom'\n",
            " 'Australia, New Zealand, United States'\n",
            " 'Hong Kong, Iceland, United States' 'France, Australia, Germany'\n",
            " 'United States, Belgium, Canada, France' 'South Africa, Angola'\n",
            " 'United States, Philippines'\n",
            " 'United States, United Kingdom, Canada, China'\n",
            " 'United States, Canada, United Kingdom' 'Turkey, United States'\n",
            " 'Peru, Germany, Norway' 'Mozambique' 'Brazil, France'\n",
            " 'China, Spain, South Korea, United States' 'Spain, Germany'\n",
            " 'Hong Kong, China' 'France, Belgium, Luxembourg, Cambodia,'\n",
            " 'United Kingdom, Australia' 'Belarus' 'Indonesia, United Kingdom'\n",
            " 'Switzerland, France, Belgium, United States' 'Ghana'\n",
            " 'Spain, France, Canada, United States' 'Chile, Italy'\n",
            " 'United Kingdom, Nigeria' 'Chile' 'France, Egypt' 'Egypt, France'\n",
            " 'France, Brazil, Spain, Belgium' 'Egypt, Algeria'\n",
            " 'Canada, South Korea, United States' 'Nigeria, United Kingdom'\n",
            " 'United States, France, Canada' 'Poland, United States'\n",
            " 'United Arab Emirates, Jordan, Lebanon, Saudi Arabia'\n",
            " 'United States, Mexico, Spain, Malta'\n",
            " 'Saudi Arabia, United Arab Emirates' 'Zimbabwe'\n",
            " 'United Kingdom, Germany, United Arab Emirates, New Zealand'\n",
            " 'Romania, United States' 'Canada, Nigeria'\n",
            " 'Saudi Arabia, Netherlands, Germany, Jordan, United Arab Emirates, United States'\n",
            " 'United Kingdom, Spain' 'Finland, France'\n",
            " 'United Kingdom, Germany, United States, France'\n",
            " 'India, United Kingdom, China, Canada, Japan, South Korea, United States'\n",
            " 'Italy, United Kingdom, France' 'United States, Mexico, Colombia'\n",
            " 'Turkey, India' 'Italy, Turkey' 'United Kingdom, United States, Japan'\n",
            " 'France, Belgium, United States' 'Puerto Rico, United States, Colombia'\n",
            " 'Uruguay, Argentina' 'United States, United Kingdom, Japan'\n",
            " 'United States, Argentina' 'United Kingdom, Italy'\n",
            " 'Ireland, United Kingdom'\n",
            " 'United Kingdom, France, Belgium, Canada, United States'\n",
            " 'Netherlands, Germany, Denmark, United Kingdom' 'Hungary'\n",
            " 'Austria, Germany' 'Taiwan, China'\n",
            " 'United Kingdom, United States, Ireland' 'South Korea, United States'\n",
            " 'Brazil, United Kingdom' 'Pakistan, United States'\n",
            " 'Romania, France, Switzerland, Germany' 'Romania, United Kingdom'\n",
            " 'France, Malta, United States' 'Cyprus'\n",
            " 'United Kingdom, France, Belgium, Ireland, United States'\n",
            " 'United States, Norway, Canada' 'Kenya, United States'\n",
            " 'France, South Korea, Japan, United States' 'Taiwan, Malaysia'\n",
            " 'Uruguay, Argentina, Germany, Spain'\n",
            " 'United States, United Kingdom, France, Germany, Japan'\n",
            " 'United States, France, Japan' 'United Kingdom, France, United States'\n",
            " 'Spain, France, United States' 'Indonesia, South Korea, Singapore'\n",
            " 'United States, Spain' 'Netherlands, Germany, Italy, Canada'\n",
            " 'Spain, Germany, Denmark, United States' 'Norway, Sweden'\n",
            " 'South Korea, Canada, United States, China' 'Argentina, Uruguay, Serbia'\n",
            " 'France, Japan' 'Mauritius, South Africa' 'United States, Poland'\n",
            " 'United Kingdom, United States, Germany, Denmark, Belgium, Japan'\n",
            " 'India, Germany' 'India, United Kingdom, Canada, United States'\n",
            " 'Philippines, United States' 'Romania, Bulgaria, Hungary'\n",
            " 'Uruguay, Guatemala' 'France, Senegal, Belgium' 'United Kingdom, Canada'\n",
            " 'Mexico, United States, Spain, Colombia' 'Canada, Norway'\n",
            " 'Singapore, United States' 'Finland, Germany, Belgium'\n",
            " 'United Kingdom, France' 'United States, Chile'\n",
            " 'United Kingdom, Japan, United States' 'Spain, United Kingdom'\n",
            " 'Argentina, United States, Mexico' 'United States, South Korea, Japan'\n",
            " 'Canada, Australia' 'United Kingdom, Hungary, Australia' 'Italy, Belgium'\n",
            " 'United States, United Kingdom, Germany' 'Switzerland'\n",
            " 'Singapore, Malaysia'\n",
            " 'France, Belgium, Luxembourg, Romania, Canada, United States'\n",
            " 'South Africa, Nigeria' 'Spain, France' 'United Kingdom, Hong Kong'\n",
            " 'Pakistan' 'Brazil, United States'\n",
            " 'Denmark, Brazil, France, Portugal, Sweden' 'India, Turkey'\n",
            " 'Malaysia, Singapore, Hong Kong' 'Philippines, Singapore'\n",
            " 'Australia, Canada' 'Taiwan, China, France, United States'\n",
            " 'Germany, Italy' 'Colombia, Peru, United Kingdom'\n",
            " 'Thailand, China, United States' 'Argentina, United States'\n",
            " 'Sweden, United States' 'Uruguay, Spain, Mexico'\n",
            " 'France, Luxembourg, Canada' 'Denmark, Spain' 'Chile, Argentina'\n",
            " 'United Kingdom, Belgium, Sweden' 'Canada, Brazil' 'Italy, France'\n",
            " 'Canada, Germany' 'Pakistan, United Arab Emirates' 'Ghana, United States'\n",
            " 'Mexico, Finland' 'United Arab Emirates, United Kingdom, India'\n",
            " 'Netherlands, Belgium' 'United States, Taiwan'\n",
            " 'Austria, Iraq, United States' 'United Kingdom, Malawi'\n",
            " 'Paraguay, Argentina' 'United Kingdom, Russia, United States'\n",
            " 'India, Pakistan' 'Indonesia, Singapore' 'Spain, Belgium'\n",
            " 'Iceland, Sweden, Belgium' 'Croatia' 'Uruguay, Argentina, Spain'\n",
            " 'United Kingdom, Ireland, United States'\n",
            " 'Canada, Germany, France, United States' 'United Kingdom, Japan'\n",
            " 'Norway, Denmark, Netherlands, Sweden' 'Hong Kong, China, United States'\n",
            " 'Ireland, Canada' 'Italy, Switzerland, France, Germany'\n",
            " 'Mexico, Netherlands' 'United States, Sweden' 'Germany, France, Russia'\n",
            " 'France, Iran, United States' 'United Kingdom, India'\n",
            " 'Russia, Poland, Serbia' 'Spain, Portugal' 'Peru' 'Mexico, Argentina'\n",
            " 'United Kingdom, Canada, United States, Cayman Islands'\n",
            " 'Indonesia, United States'\n",
            " 'United States, Israel, United Kingdom, Canada'\n",
            " 'Norway, Iceland, United States' 'Czech Republic, United States'\n",
            " 'United Kingdom, India, United States' 'United Kingdom, West Germany'\n",
            " 'India, Australia' 'United States,'\n",
            " 'Belgium, United Kingdom, United States' 'India, Germany, Austria'\n",
            " 'United States, Brazil, South Korea, Mexico, Japan, Germany'\n",
            " 'Spain, Mexico' 'China, Japan' 'Argentina, France'\n",
            " 'China, United States, United Kingdom'\n",
            " 'France, Luxembourg, United States' 'China, United States, Australia'\n",
            " 'Colombia, Mexico' 'United States, Canada, Ireland' 'Chile, Peru'\n",
            " 'Argentina, Italy' 'Canada, Japan, United States'\n",
            " 'United Kingdom, Canada, United States, Germany'\n",
            " 'Italy, Switzerland, Albania, Poland' 'United States, Japan, Canada'\n",
            " 'Cambodia' 'Italy, United States, Argentina'\n",
            " 'Saudi Arabia, Syria, Egypt, Lebanon, Kuwait'\n",
            " 'United States, Canada, Indonesia, United Kingdom, China, Singapore'\n",
            " 'Spain, Colombia'\n",
            " 'United Kingdom, South Africa, Australia, United States' 'Bulgaria'\n",
            " 'Argentina, Brazil, France, Poland, Germany, Denmark'\n",
            " 'United Kingdom, Spain, United States, Germany' 'Philippines, Qatar'\n",
            " 'Netherlands, Belgium, Germany, Jordan'\n",
            " 'United Arab Emirates, United States' 'Norway, Germany, Sweden'\n",
            " 'South Korea, China' 'Georgia' 'Soviet Union, India'\n",
            " 'Australia, United Arab Emirates' 'Canada, Germany, South Africa'\n",
            " 'South Korea, China, United States' 'India, Soviet Union' 'India, Mexico'\n",
            " 'Georgia, Germany, France' 'United Arab Emirates, Romania'\n",
            " 'India, Malaysia' 'Germany, Jordan, Netherlands'\n",
            " 'Turkey, France, Germany, Poland' 'Greece, United States'\n",
            " 'France, United Kingdom, United States' 'Norway, Germany'\n",
            " 'France, Morocco' 'Cambodia, United States' 'United States, Denmark'\n",
            " 'United States, Colombia, Mexico'\n",
            " 'United Kingdom, Italy, Israel, Peru, United States'\n",
            " 'Argentina, Uruguay, Spain, France'\n",
            " 'United Kingdom, France, United States, Belgium'\n",
            " 'France, Canada, China, Cambodia'\n",
            " 'United Kingdom, France, Belgium, United States' 'Chile, France'\n",
            " 'Netherlands, United States' 'France, United Kingdom, India'\n",
            " 'Czech Republic, Slovakia' 'Singapore, France' 'Spain, Switzerland'\n",
            " 'United States, Australia, China' 'South Africa, United States, Germany'\n",
            " 'United States, United Kingdom, Australia' 'Spain, Italy, Argentina'\n",
            " 'Chile, Spain, Argentina, Germany' 'West Germany'\n",
            " 'Austria, Czech Republic' 'Lebanon, Qatar'\n",
            " 'United Kingdom, Jordan, Qatar, Iran' 'France, South Korea, Japan'\n",
            " 'Israel, Germany, France' 'Canada, Japan, Netherlands'\n",
            " 'United States, Hungary' 'France, Germany' 'France, Qatar'\n",
            " 'United Kingdom, Germany, Canada' 'Ireland, South Africa'\n",
            " 'Chile, United States, France' 'Belgium, France, Netherlands'\n",
            " 'United Kingdom, Ukraine, United States'\n",
            " 'Germany, Australia, France, China' 'Norway, United States'\n",
            " 'United States, Bermuda, Ecuador'\n",
            " 'United States, Hungary, Ireland, Canada'\n",
            " 'United Kingdom, Egypt, United States'\n",
            " 'United States, France, United Kingdom' 'Spain, Mexico, France'\n",
            " 'United States, South Africa' 'Hong Kong, China, Singapore'\n",
            " 'South Africa, China, United States' 'Denmark, France, Poland'\n",
            " 'New Zealand, United Kingdom' 'Netherlands, Denmark, South Africa'\n",
            " 'Iran, France' 'United Kingdom, United States, France, Germany'\n",
            " 'Australia, France' 'Ireland, United Kingdom, United States'\n",
            " 'United Kingdom, France, Germany' 'Canada, Luxembourg'\n",
            " 'Brazil, Netherlands, United States, Colombia, Austria, Germany'\n",
            " 'France, Canada, Belgium' 'Canada, France'\n",
            " 'Bulgaria, United States, Spain, Canada' 'Sweden, Netherlands'\n",
            " 'France, United States, Mexico'\n",
            " 'Australia, United Kingdom, United Arab Emirates, Canada'\n",
            " 'Australia, Armenia, Japan, Jordan, Mexico, Mongolia, New Zealand, Philippines, South Africa, Sweden, United States, Uruguay'\n",
            " 'India, Iran' 'France, Belgium, Spain'\n",
            " 'Denmark, Sweden, Israel, United States' 'United States, Iceland'\n",
            " 'United Kingdom, Russia' 'United States, Israel, Italy, South Africa'\n",
            " 'Netherlands, Denmark, France, Germany' 'South Korea, Japan'\n",
            " 'United Kingdom, Pakistan' 'France, New Zealand'\n",
            " 'United Kingdom, Czech Republic, United States, Germany, Bahamas'\n",
            " 'China, Germany, India, United States' 'Germany, Sri Lanka'\n",
            " 'United States, India, Bangladesh' 'United States, Canada, France'\n",
            " 'Brazil, France, Germany' 'Germany, United States, Hong Kong, Singapore'\n",
            " 'France, Germany, Switzerland'\n",
            " 'Germany, France, Luxembourg, United Kingdom, United States'\n",
            " 'United Kingdom, Canada, Italy' 'Czech Republic, France'\n",
            " 'Taiwan, Hong Kong, United States, China' 'Germany, Australia'\n",
            " 'United Kingdom, Poland, United States' 'Denmark, Zimbabwe'\n",
            " 'United Kingdom, South Africa' 'Finland, Sweden, Norway, Latvia, Germany'\n",
            " 'South Africa, United States, New Zealand, Canada'\n",
            " 'United States, Italy, United Kingdom, Liechtenstein'\n",
            " 'Denmark, France, Belgium, Italy, Netherlands, United States, United Kingdom'\n",
            " 'United States, Australia, Mexico'\n",
            " 'United Kingdom, Czech Republic, Germany, United States'\n",
            " 'France, China, Japan, United States' 'United States, South Korea, China'\n",
            " 'Germany, Belgium' 'Pakistan, Norway, United States'\n",
            " 'United States, Canada, Belgium, United Kingdom' 'Venezuela'\n",
            " 'Canada, France, Italy, Morocco, United States' 'Canada, Spain, France'\n",
            " 'United States, Indonesia' 'Spain, France, Italy'\n",
            " 'United Arab Emirates, United States, United Kingdom'\n",
            " 'United Kingdom, Israel, Russia' 'Spain, Cuba' 'United States, Brazil'\n",
            " 'United States, France, Mexico' 'United States, Nicaragua'\n",
            " 'United Kingdom, United States, Spain, Germany, Greece, Canada'\n",
            " 'Italy, Canada, France' 'United Kingdom, Denmark, Canada, Croatia'\n",
            " 'Italy, Germany' 'United States, France, United Kingdom, Japan'\n",
            " 'United States, United Kingdom, Denmark, Sweden'\n",
            " 'United States, United Kingdom, Italy'\n",
            " 'United States, France, Canada, Spain' 'Russia, United States, China'\n",
            " 'United States, Canada, Germany' 'Ireland, United States'\n",
            " 'United States, United Arab Emirates' 'United States, Ireland'\n",
            " 'Ireland, United Kingdom, Italy, United States' 'Poland,'\n",
            " 'Slovenia, Croatia, Germany, Czech Republic, Qatar'\n",
            " 'Canada, United Kingdom, Netherlands' 'United States, Spain, Germany'\n",
            " 'India, Japan' 'China, South Korea, United States'\n",
            " 'United Kingdom, France, Belgium' 'Canada, Ireland, United States'\n",
            " 'United Kingdom, United States, Dominican Republic'\n",
            " 'United States, Senegal' 'Germany, United Kingdom, United States'\n",
            " 'South Africa, Germany, Netherlands, France'\n",
            " 'Canada, United States, United Kingdom, France, Luxembourg'\n",
            " 'Ireland, United States, France' 'Germany, United States, Canada'\n",
            " 'United Kingdom, Germany, Canada, United States'\n",
            " 'United States, France, Canada, Lebanon, Qatar'\n",
            " 'Netherlands, Belgium, United Kingdom, United States'\n",
            " 'France, Belgium, China, United States' 'United States, Chile, Israel'\n",
            " 'United Kingdom, Norway, Denmark, Germany, Sweden'\n",
            " 'Norway, Denmark, Sweden' 'China, India, Nepal'\n",
            " 'Colombia, Mexico, United States' 'United Kingdom, South Korea'\n",
            " 'Denmark, China' 'United States, Greece, Brazil' 'South Korea, France'\n",
            " 'United States, Australia, Samoa, United Kingdom'\n",
            " 'Germany, United Kingdom' 'Argentina, Chile, Peru' 'Turkey, Azerbaijan'\n",
            " 'Poland, West Germany' 'Germany, United States, Sweden' 'Canada, Spain'\n",
            " 'United States, Cambodia' 'United States, Greece'\n",
            " 'Norway, United Kingdom, France, Ireland' 'United Kingdom, Poland'\n",
            " 'Israel, Sweden, Germany, Netherlands' 'Switzerland, France'\n",
            " 'Italy, India' 'United States, Botswana'\n",
            " 'Chile, Argentina, France, Spain, United States'\n",
            " 'United States, India, South Korea, China'\n",
            " 'Denmark, Germany, Belgium, United Kingdom, France'\n",
            " 'Denmark, Germany, Belgium, United Kingdom, France, Sweden'\n",
            " 'France, Switzerland, Spain, United States, United Arab Emirates'\n",
            " 'Brazil, India, China, United States'\n",
            " 'Denmark, France, United States, Sweden' 'Australia, Iraq'\n",
            " 'China, Morocco, Hong Kong' 'Canada, United States, Germany'\n",
            " 'United Kingdom, Thailand' 'Venezuela, Colombia'\n",
            " 'Colombia, United States' 'France, Germany, Czech Republic, Belgium'\n",
            " 'Switzerland, Vatican City, Italy, Germany, France'\n",
            " 'Portugal, France, Poland, United States'\n",
            " 'United States, New Zealand, Japan'\n",
            " 'United States, Netherlands, Japan, France' 'India, Switzerland'\n",
            " 'Canada, India' 'United States, Morocco' 'Singapore, Japan, France'\n",
            " 'Canada, Mexico, Germany, South Africa'\n",
            " 'United Kingdom, United States, Canada'\n",
            " 'Germany, France, United States, Canada, United Kingdom'\n",
            " 'United States, Uruguay' 'India, Canada'\n",
            " 'Ireland, Canada, United Kingdom, United States'\n",
            " 'United States, Germany, Australia' 'Australia, France, Ireland'\n",
            " 'Australia, India' 'United States, United Kingdom, Canada, Japan'\n",
            " 'Sweden, United Kingdom, Finland' 'Hong Kong, Taiwan'\n",
            " 'United States, United Kingdom, Spain, South Korea' 'Guatemala' 'Ukraine'\n",
            " 'Italy, South Africa, West Germany, Australia, United States'\n",
            " 'United States, Germany, United Kingdom, Australia'\n",
            " 'Italy, France, Switzerland' 'Canada, France, United States'\n",
            " 'Switzerland, United States' 'Thailand, Canada, United States'\n",
            " 'China, Hong Kong, United States' 'United Kingdom, New Zealand'\n",
            " 'Czech Republic, United Kingdom, France'\n",
            " 'Australia, United Kingdom, Canada' 'Jamaica, United States'\n",
            " 'Australia, United Kingdom, United States, New Zealand, Italy, France'\n",
            " 'France, United States, Canada'\n",
            " 'United Kingdom, France, Canada, Belgium, United States'\n",
            " 'Denmark, United Kingdom, Sweden' 'United States, Hong Kong'\n",
            " 'United States, Kazakhstan'\n",
            " 'Argentina, France, United States, Germany, Qatar'\n",
            " 'United States, Germany, United Kingdom'\n",
            " 'United States, Germany, United Kingdom, Italy'\n",
            " 'United States, New Zealand, United Kingdom' 'Finland, United States'\n",
            " 'Spain, France, Uruguay' 'France, Canada, United States'\n",
            " 'United States, Canada, China'\n",
            " 'Ireland, Canada, Luxembourg, United States, United Kingdom, Philippines, India'\n",
            " 'United States, Czech Republic, United Kingdom' 'Israel, Germany'\n",
            " 'Mexico, France'\n",
            " 'Israel, Germany, Poland, Luxembourg, Belgium, France, United States'\n",
            " 'Austria, United States' 'United Kingdom, Lithuania'\n",
            " 'United States, Greece, United Kingdom'\n",
            " 'United Kingdom, China, United States, India'\n",
            " 'United States, Sweden, Norway' 'United Kingdom, United States, Morocco'\n",
            " 'United States, United Kingdom, Morocco' 'Spain, Canada, United States'\n",
            " 'United States, India, United Arab Emirates'\n",
            " 'United Kingdom, Canada, France, United States' 'India, Germany, France'\n",
            " 'Belgium, Ireland, Netherlands, Germany, Afghanistan'\n",
            " 'France, Canada, Italy, United States, China'\n",
            " 'Ireland, United Kingdom, Greece, France, Netherlands'\n",
            " 'Denmark, Indonesia, Finland, Norway, United Kingdom, Israel, France, United States, Germany, Netherlands'\n",
            " 'New Zealand, United States'\n",
            " 'United States, Australia, South Africa, United Kingdom'\n",
            " 'United States, Germany, Mexico'\n",
            " 'Somalia, Kenya, Sudan, South Africa, United States'\n",
            " 'United States, Canada, Japan, Panama' 'United Kingdom, Spain, Belgium'\n",
            " 'Serbia, South Korea, Slovenia'\n",
            " 'Denmark, United Kingdom, South Africa, Sweden, Belgium'\n",
            " 'Germany, Canada, United States'\n",
            " 'Ireland, Canada, United States, United Kingdom'\n",
            " 'New Zealand, United Kingdom, Australia'\n",
            " 'United Kingdom, Australia, Canada, United States'\n",
            " 'Germany, United States, Italy' 'United States, Venezuela'\n",
            " 'United Kingdom, Canada, Japan'\n",
            " 'United Kingdom, United States, Czech Republic'\n",
            " 'United Kingdom, China, United States' 'United Kingdom, Brazil, Germany'\n",
            " 'United Kingdom, Namibia, South Africa, Zimbabwe, United States'\n",
            " 'Canada, United States, India, United Kingdom'\n",
            " 'Switzerland, United Kingdom, United States'\n",
            " 'United Kingdom, India, Sweden'\n",
            " 'United States, Brazil, India, Uganda, China'\n",
            " 'Peru, United States, United Kingdom'\n",
            " 'Germany, United States, United Kingdom, Canada'\n",
            " 'Canada, India, Thailand, United States, United Arab Emirates'\n",
            " 'United States, East Germany, West Germany'\n",
            " 'France, Netherlands, South Africa, Finland'\n",
            " 'Egypt, Austria, United States' 'Russia, Spain'\n",
            " 'Croatia, Slovenia, Serbia, Montenegro' 'Japan, Canada'\n",
            " 'United States, France, South Korea, Indonesia'\n",
            " 'United Arab Emirates, Jordan']\n"
          ]
        }
      ],
      "source": [
        "print(f'value in country : {netflix[\"country\"].unique()}')\n"
      ]
    },
    {
      "cell_type": "code",
      "execution_count": 18,
      "metadata": {
        "id": "6fJfJlne0Jqc"
      },
      "outputs": [],
      "source": [
        "category_columns = ['type', 'rating','country']\n",
        "for col in category_columns:\n",
        "    netflix[col] = netflix[col].astype('category')"
      ]
    },
    {
      "cell_type": "code",
      "execution_count": 19,
      "metadata": {
        "colab": {
          "base_uri": "https://localhost:8080/"
        },
        "id": "yDMWCHkj0akD",
        "outputId": "072789ed-1227-4c76-a1c1-9b3a4c98ad2e"
      },
      "outputs": [
        {
          "name": "stdout",
          "output_type": "stream",
          "text": [
            "<class 'pandas.core.frame.DataFrame'>\n",
            "RangeIndex: 8807 entries, 0 to 8806\n",
            "Data columns (total 12 columns):\n",
            " #   Column        Non-Null Count  Dtype         \n",
            "---  ------        --------------  -----         \n",
            " 0   show_id       8807 non-null   object        \n",
            " 1   type          8807 non-null   category      \n",
            " 2   title         8807 non-null   object        \n",
            " 3   director      6173 non-null   object        \n",
            " 4   cast          7982 non-null   object        \n",
            " 5   country       7976 non-null   category      \n",
            " 6   date_added    8709 non-null   datetime64[ns]\n",
            " 7   release_year  8807 non-null   int64         \n",
            " 8   rating        8803 non-null   category      \n",
            " 9   duration      8804 non-null   object        \n",
            " 10  listed_in     8807 non-null   object        \n",
            " 11  description   8807 non-null   object        \n",
            "dtypes: category(3), datetime64[ns](1), int64(1), object(7)\n",
            "memory usage: 676.6+ KB\n"
          ]
        }
      ],
      "source": [
        "netflix.info()"
      ]
    },
    {
      "cell_type": "markdown",
      "metadata": {
        "id": "dxHtRXTQ1lXF"
      },
      "source": [
        "### **duration**"
      ]
    },
    {
      "cell_type": "code",
      "execution_count": 20,
      "metadata": {
        "id": "lcddvVtJ1n-S"
      },
      "outputs": [
        {
          "name": "stderr",
          "output_type": "stream",
          "text": [
            "<>:1: SyntaxWarning: invalid escape sequence '\\d'\n",
            "<>:1: SyntaxWarning: invalid escape sequence '\\d'\n",
            "C:\\Users\\aliha\\AppData\\Local\\Temp\\ipykernel_13124\\3368897505.py:1: SyntaxWarning: invalid escape sequence '\\d'\n",
            "  netflix['duration_num'] = netflix['duration'].str.extract('(\\d+)').astype(float)\n"
          ]
        }
      ],
      "source": [
        "netflix['duration_num'] = netflix['duration'].str.extract('(\\d+)').astype(float)\n",
        "netflix['duration_type'] = netflix['duration'].str.extract('([a-zA-Z]+)').astype('category')\n"
      ]
    },
    {
      "cell_type": "code",
      "execution_count": 21,
      "metadata": {
        "colab": {
          "base_uri": "https://localhost:8080/"
        },
        "id": "y8v_EIKh2GuU",
        "outputId": "80622adf-bf29-49da-902b-500c516578cd"
      },
      "outputs": [
        {
          "name": "stdout",
          "output_type": "stream",
          "text": [
            "<class 'pandas.core.frame.DataFrame'>\n",
            "RangeIndex: 8807 entries, 0 to 8806\n",
            "Data columns (total 14 columns):\n",
            " #   Column         Non-Null Count  Dtype         \n",
            "---  ------         --------------  -----         \n",
            " 0   show_id        8807 non-null   object        \n",
            " 1   type           8807 non-null   category      \n",
            " 2   title          8807 non-null   object        \n",
            " 3   director       6173 non-null   object        \n",
            " 4   cast           7982 non-null   object        \n",
            " 5   country        7976 non-null   category      \n",
            " 6   date_added     8709 non-null   datetime64[ns]\n",
            " 7   release_year   8807 non-null   int64         \n",
            " 8   rating         8803 non-null   category      \n",
            " 9   duration       8804 non-null   object        \n",
            " 10  listed_in      8807 non-null   object        \n",
            " 11  description    8807 non-null   object        \n",
            " 12  duration_num   8804 non-null   float64       \n",
            " 13  duration_type  8804 non-null   category      \n",
            "dtypes: category(4), datetime64[ns](1), float64(1), int64(1), object(7)\n",
            "memory usage: 754.1+ KB\n"
          ]
        }
      ],
      "source": [
        "netflix.info()"
      ]
    },
    {
      "cell_type": "markdown",
      "metadata": {
        "id": "hO3E4RQy2ovK"
      },
      "source": [
        "## **Missing Values**"
      ]
    },
    {
      "cell_type": "code",
      "execution_count": 22,
      "metadata": {
        "colab": {
          "base_uri": "https://localhost:8080/"
        },
        "id": "B3bJBnOX2n7k",
        "outputId": "b503d3f9-06c5-4d4e-aeef-5b3e8990ae98"
      },
      "outputs": [
        {
          "data": {
            "text/plain": [
              "0"
            ]
          },
          "execution_count": 22,
          "metadata": {},
          "output_type": "execute_result"
        }
      ],
      "source": [
        "netflix.duplicated().sum()"
      ]
    },
    {
      "cell_type": "markdown",
      "metadata": {
        "id": "aV8Rx9YD37id"
      },
      "source": [
        "## **Missing Values**\n",
        "\n",
        "### **cast,director --> Unknown**"
      ]
    },
    {
      "cell_type": "code",
      "execution_count": 23,
      "metadata": {
        "colab": {
          "base_uri": "https://localhost:8080/"
        },
        "id": "85ntIIgB39cv",
        "outputId": "aa2d1bcd-20b7-4300-a563-0f1c10df8324"
      },
      "outputs": [
        {
          "name": "stderr",
          "output_type": "stream",
          "text": [
            "C:\\Users\\aliha\\AppData\\Local\\Temp\\ipykernel_13124\\4185765039.py:1: FutureWarning: A value is trying to be set on a copy of a DataFrame or Series through chained assignment using an inplace method.\n",
            "The behavior will change in pandas 3.0. This inplace method will never work because the intermediate object on which we are setting values always behaves as a copy.\n",
            "\n",
            "For example, when doing 'df[col].method(value, inplace=True)', try using 'df.method({col: value}, inplace=True)' or df[col] = df[col].method(value) instead, to perform the operation inplace on the original object.\n",
            "\n",
            "\n",
            "  netflix['cast'].fillna('Unknown', inplace=True)\n",
            "C:\\Users\\aliha\\AppData\\Local\\Temp\\ipykernel_13124\\4185765039.py:2: FutureWarning: A value is trying to be set on a copy of a DataFrame or Series through chained assignment using an inplace method.\n",
            "The behavior will change in pandas 3.0. This inplace method will never work because the intermediate object on which we are setting values always behaves as a copy.\n",
            "\n",
            "For example, when doing 'df[col].method(value, inplace=True)', try using 'df.method({col: value}, inplace=True)' or df[col] = df[col].method(value) instead, to perform the operation inplace on the original object.\n",
            "\n",
            "\n",
            "  netflix['director'].fillna('Unknown', inplace=True)\n"
          ]
        }
      ],
      "source": [
        "netflix['cast'].fillna('Unknown', inplace=True)\n",
        "netflix['director'].fillna('Unknown', inplace=True)"
      ]
    },
    {
      "cell_type": "markdown",
      "metadata": {
        "id": "CbwAFH0Y5Q6Q"
      },
      "source": [
        "### **country --> max**"
      ]
    },
    {
      "cell_type": "code",
      "execution_count": 24,
      "metadata": {
        "colab": {
          "base_uri": "https://localhost:8080/"
        },
        "id": "hd3Z5X6G5THC",
        "outputId": "49b28b70-6925-43ac-c487-436e414df0f9"
      },
      "outputs": [
        {
          "name": "stderr",
          "output_type": "stream",
          "text": [
            "C:\\Users\\aliha\\AppData\\Local\\Temp\\ipykernel_13124\\4201719536.py:2: FutureWarning: A value is trying to be set on a copy of a DataFrame or Series through chained assignment using an inplace method.\n",
            "The behavior will change in pandas 3.0. This inplace method will never work because the intermediate object on which we are setting values always behaves as a copy.\n",
            "\n",
            "For example, when doing 'df[col].method(value, inplace=True)', try using 'df.method({col: value}, inplace=True)' or df[col] = df[col].method(value) instead, to perform the operation inplace on the original object.\n",
            "\n",
            "\n",
            "  netflix['country'].fillna(most_common_country, inplace=True)\n"
          ]
        }
      ],
      "source": [
        "most_common_country = netflix['country'].mode()[0]\n",
        "netflix['country'].fillna(most_common_country, inplace=True)\n"
      ]
    },
    {
      "cell_type": "markdown",
      "metadata": {
        "id": "Sk4w0gg35aUm"
      },
      "source": [
        "## **date_added --> dell**"
      ]
    },
    {
      "cell_type": "code",
      "execution_count": 25,
      "metadata": {
        "id": "RNxXAa665lEB"
      },
      "outputs": [],
      "source": [
        "netflix = netflix[netflix['date_added'].notnull()]\n"
      ]
    },
    {
      "cell_type": "markdown",
      "metadata": {
        "id": "GhCfVx11539r"
      },
      "source": [
        "## **rating --> max**"
      ]
    },
    {
      "cell_type": "code",
      "execution_count": 26,
      "metadata": {
        "colab": {
          "base_uri": "https://localhost:8080/"
        },
        "id": "GN_2kYyy53fh",
        "outputId": "c2de7bba-4cc2-42f2-9756-dfc043cab796"
      },
      "outputs": [
        {
          "name": "stderr",
          "output_type": "stream",
          "text": [
            "C:\\Users\\aliha\\AppData\\Local\\Temp\\ipykernel_13124\\3094350819.py:2: FutureWarning: A value is trying to be set on a copy of a DataFrame or Series through chained assignment using an inplace method.\n",
            "The behavior will change in pandas 3.0. This inplace method will never work because the intermediate object on which we are setting values always behaves as a copy.\n",
            "\n",
            "For example, when doing 'df[col].method(value, inplace=True)', try using 'df.method({col: value}, inplace=True)' or df[col] = df[col].method(value) instead, to perform the operation inplace on the original object.\n",
            "\n",
            "\n",
            "  netflix['rating'].fillna(most_common_rating, inplace=True)\n"
          ]
        }
      ],
      "source": [
        "most_common_rating = netflix['rating'].mode()[0]\n",
        "netflix['rating'].fillna(most_common_rating, inplace=True)\n"
      ]
    },
    {
      "cell_type": "markdown",
      "metadata": {
        "id": "0pAuqYdb6NfH"
      },
      "source": [
        "## **duration_num , duration_type --> dell**"
      ]
    },
    {
      "cell_type": "code",
      "execution_count": 27,
      "metadata": {
        "id": "PNg42TaH6NO2"
      },
      "outputs": [],
      "source": [
        "netflix.dropna(subset=['duration_num', 'duration_type'], inplace=True)\n"
      ]
    },
    {
      "cell_type": "code",
      "execution_count": 28,
      "metadata": {
        "colab": {
          "base_uri": "https://localhost:8080/",
          "height": 523
        },
        "id": "fDpRgf-l6lHc",
        "outputId": "59c61c74-a8e1-4cb0-d12b-df79f26e7b98"
      },
      "outputs": [
        {
          "data": {
            "application/vnd.microsoft.datawrangler.viewer.v0+json": {
              "columns": [
                {
                  "name": "index",
                  "rawType": "object",
                  "type": "string"
                },
                {
                  "name": "0",
                  "rawType": "int64",
                  "type": "integer"
                }
              ],
              "ref": "2e4b7bfa-7158-40c5-8a28-3515b6fcfd2a",
              "rows": [
                [
                  "show_id",
                  "0"
                ],
                [
                  "type",
                  "0"
                ],
                [
                  "title",
                  "0"
                ],
                [
                  "director",
                  "0"
                ],
                [
                  "cast",
                  "0"
                ],
                [
                  "country",
                  "0"
                ],
                [
                  "date_added",
                  "0"
                ],
                [
                  "release_year",
                  "0"
                ],
                [
                  "rating",
                  "0"
                ],
                [
                  "duration",
                  "0"
                ],
                [
                  "listed_in",
                  "0"
                ],
                [
                  "description",
                  "0"
                ],
                [
                  "duration_num",
                  "0"
                ],
                [
                  "duration_type",
                  "0"
                ]
              ],
              "shape": {
                "columns": 1,
                "rows": 14
              }
            },
            "text/plain": [
              "show_id          0\n",
              "type             0\n",
              "title            0\n",
              "director         0\n",
              "cast             0\n",
              "country          0\n",
              "date_added       0\n",
              "release_year     0\n",
              "rating           0\n",
              "duration         0\n",
              "listed_in        0\n",
              "description      0\n",
              "duration_num     0\n",
              "duration_type    0\n",
              "dtype: int64"
            ]
          },
          "execution_count": 28,
          "metadata": {},
          "output_type": "execute_result"
        }
      ],
      "source": [
        "netflix.isnull().sum()\n"
      ]
    },
    {
      "cell_type": "code",
      "execution_count": 29,
      "metadata": {
        "colab": {
          "base_uri": "https://localhost:8080/"
        },
        "id": "CLmxQ4uz69Dh",
        "outputId": "66676a49-50b8-4121-8829-f494e80073b4"
      },
      "outputs": [
        {
          "name": "stdout",
          "output_type": "stream",
          "text": [
            "<class 'pandas.core.frame.DataFrame'>\n",
            "Index: 8706 entries, 0 to 8806\n",
            "Data columns (total 14 columns):\n",
            " #   Column         Non-Null Count  Dtype         \n",
            "---  ------         --------------  -----         \n",
            " 0   show_id        8706 non-null   object        \n",
            " 1   type           8706 non-null   category      \n",
            " 2   title          8706 non-null   object        \n",
            " 3   director       8706 non-null   object        \n",
            " 4   cast           8706 non-null   object        \n",
            " 5   country        8706 non-null   category      \n",
            " 6   date_added     8706 non-null   datetime64[ns]\n",
            " 7   release_year   8706 non-null   int64         \n",
            " 8   rating         8706 non-null   category      \n",
            " 9   duration       8706 non-null   object        \n",
            " 10  listed_in      8706 non-null   object        \n",
            " 11  description    8706 non-null   object        \n",
            " 12  duration_num   8706 non-null   float64       \n",
            " 13  duration_type  8706 non-null   category      \n",
            "dtypes: category(4), datetime64[ns](1), float64(1), int64(1), object(7)\n",
            "memory usage: 813.6+ KB\n"
          ]
        }
      ],
      "source": [
        "netflix.info()"
      ]
    },
    {
      "cell_type": "markdown",
      "metadata": {
        "id": "PiYCgE25CO65"
      },
      "source": [
        "## **Encoding**\n",
        "### **type**"
      ]
    },
    {
      "cell_type": "code",
      "execution_count": 31,
      "metadata": {
        "id": "LjRiQuoUCXB8"
      },
      "outputs": [],
      "source": [
        "netflix['type_num'] = netflix['type'].map({'Movie': 1, 'TV Show': 0})\n"
      ]
    },
    {
      "cell_type": "markdown",
      "metadata": {
        "id": "HQN7SRVkCgdK"
      },
      "source": [
        "### **rating**"
      ]
    },
    {
      "cell_type": "code",
      "execution_count": 32,
      "metadata": {
        "id": "AnxsfcbdCiDg"
      },
      "outputs": [],
      "source": [
        "netflix['rating_code'] = netflix['rating'].astype('category').cat.codes\n"
      ]
    },
    {
      "cell_type": "markdown",
      "metadata": {
        "id": "7PdxwMNVCnI3"
      },
      "source": [
        "### **country**"
      ]
    },
    {
      "cell_type": "code",
      "execution_count": 33,
      "metadata": {
        "id": "-b0N_7TLCmf-"
      },
      "outputs": [],
      "source": [
        "netflix['country_code'] = netflix['country'].astype('category').cat.codes\n"
      ]
    },
    {
      "cell_type": "code",
      "execution_count": 34,
      "metadata": {
        "colab": {
          "base_uri": "https://localhost:8080/"
        },
        "id": "IqiuMkEECu4O",
        "outputId": "8a9893eb-3172-4fc4-a7e6-9a4baf48d6d3"
      },
      "outputs": [
        {
          "name": "stdout",
          "output_type": "stream",
          "text": [
            "<class 'pandas.core.frame.DataFrame'>\n",
            "Index: 8706 entries, 0 to 8806\n",
            "Data columns (total 17 columns):\n",
            " #   Column         Non-Null Count  Dtype         \n",
            "---  ------         --------------  -----         \n",
            " 0   show_id        8706 non-null   object        \n",
            " 1   type           8706 non-null   category      \n",
            " 2   title          8706 non-null   object        \n",
            " 3   director       8706 non-null   object        \n",
            " 4   cast           8706 non-null   object        \n",
            " 5   country        8706 non-null   category      \n",
            " 6   date_added     8706 non-null   datetime64[ns]\n",
            " 7   release_year   8706 non-null   int64         \n",
            " 8   rating         8706 non-null   category      \n",
            " 9   duration       8706 non-null   object        \n",
            " 10  listed_in      8706 non-null   object        \n",
            " 11  description    8706 non-null   object        \n",
            " 12  duration_num   8706 non-null   float64       \n",
            " 13  duration_type  8706 non-null   category      \n",
            " 14  type_num       8706 non-null   category      \n",
            " 15  rating_code    8706 non-null   int8          \n",
            " 16  country_code   8706 non-null   int16         \n",
            "dtypes: category(5), datetime64[ns](1), float64(1), int16(1), int64(1), int8(1), object(7)\n",
            "memory usage: 847.7+ KB\n"
          ]
        }
      ],
      "source": [
        "netflix.info()"
      ]
    },
    {
      "cell_type": "markdown",
      "metadata": {
        "id": "Lw1PmofCDm3N"
      },
      "source": [
        "## **Statistical data analysis**"
      ]
    },
    {
      "cell_type": "code",
      "execution_count": 35,
      "metadata": {
        "colab": {
          "base_uri": "https://localhost:8080/",
          "height": 300
        },
        "id": "64gp5GSaDmVH",
        "outputId": "7b4de97c-fcb7-4b31-bbb9-021db4f3ed20"
      },
      "outputs": [
        {
          "data": {
            "application/vnd.microsoft.datawrangler.viewer.v0+json": {
              "columns": [
                {
                  "name": "index",
                  "rawType": "object",
                  "type": "string"
                },
                {
                  "name": "date_added",
                  "rawType": "object",
                  "type": "unknown"
                },
                {
                  "name": "release_year",
                  "rawType": "float64",
                  "type": "float"
                },
                {
                  "name": "duration_num",
                  "rawType": "float64",
                  "type": "float"
                },
                {
                  "name": "rating_code",
                  "rawType": "float64",
                  "type": "float"
                },
                {
                  "name": "country_code",
                  "rawType": "float64",
                  "type": "float"
                }
              ],
              "ref": "5d3a07d2-2cd9-45ec-8e15-cd05172265a0",
              "rows": [
                [
                  "count",
                  "8706",
                  "8706.0",
                  "8706.0",
                  "8706.0",
                  "8706.0"
                ],
                [
                  "mean",
                  "2019-05-23 09:23:31.716058112",
                  "2014.197105444521",
                  "70.59062715368711",
                  "10.00941879163795",
                  "443.30059728922583"
                ],
                [
                  "min",
                  "2008-01-01 00:00:00",
                  "1925.0",
                  "1.0",
                  "3.0",
                  "0.0"
                ],
                [
                  "25%",
                  "2018-04-20 00:00:00",
                  "2013.0",
                  "3.0",
                  "9.0",
                  "251.0"
                ],
                [
                  "50%",
                  "2019-07-12 00:00:00",
                  "2017.0",
                  "89.0",
                  "11.0",
                  "506.0"
                ],
                [
                  "75%",
                  "2020-08-26 00:00:00",
                  "2019.0",
                  "106.0",
                  "11.0",
                  "603.0"
                ],
                [
                  "max",
                  "2021-09-25 00:00:00",
                  "2021.0",
                  "312.0",
                  "16.0",
                  "747.0"
                ],
                [
                  "std",
                  null,
                  "8.827570037634969",
                  "50.610750022361835",
                  "1.9514270440432853",
                  "191.09779421612114"
                ]
              ],
              "shape": {
                "columns": 5,
                "rows": 8
              }
            },
            "text/html": [
              "<div>\n",
              "<style scoped>\n",
              "    .dataframe tbody tr th:only-of-type {\n",
              "        vertical-align: middle;\n",
              "    }\n",
              "\n",
              "    .dataframe tbody tr th {\n",
              "        vertical-align: top;\n",
              "    }\n",
              "\n",
              "    .dataframe thead th {\n",
              "        text-align: right;\n",
              "    }\n",
              "</style>\n",
              "<table border=\"1\" class=\"dataframe\">\n",
              "  <thead>\n",
              "    <tr style=\"text-align: right;\">\n",
              "      <th></th>\n",
              "      <th>date_added</th>\n",
              "      <th>release_year</th>\n",
              "      <th>duration_num</th>\n",
              "      <th>rating_code</th>\n",
              "      <th>country_code</th>\n",
              "    </tr>\n",
              "  </thead>\n",
              "  <tbody>\n",
              "    <tr>\n",
              "      <th>count</th>\n",
              "      <td>8706</td>\n",
              "      <td>8706.000000</td>\n",
              "      <td>8706.000000</td>\n",
              "      <td>8706.000000</td>\n",
              "      <td>8706.000000</td>\n",
              "    </tr>\n",
              "    <tr>\n",
              "      <th>mean</th>\n",
              "      <td>2019-05-23 09:23:31.716058112</td>\n",
              "      <td>2014.197105</td>\n",
              "      <td>70.590627</td>\n",
              "      <td>10.009419</td>\n",
              "      <td>443.300597</td>\n",
              "    </tr>\n",
              "    <tr>\n",
              "      <th>min</th>\n",
              "      <td>2008-01-01 00:00:00</td>\n",
              "      <td>1925.000000</td>\n",
              "      <td>1.000000</td>\n",
              "      <td>3.000000</td>\n",
              "      <td>0.000000</td>\n",
              "    </tr>\n",
              "    <tr>\n",
              "      <th>25%</th>\n",
              "      <td>2018-04-20 00:00:00</td>\n",
              "      <td>2013.000000</td>\n",
              "      <td>3.000000</td>\n",
              "      <td>9.000000</td>\n",
              "      <td>251.000000</td>\n",
              "    </tr>\n",
              "    <tr>\n",
              "      <th>50%</th>\n",
              "      <td>2019-07-12 00:00:00</td>\n",
              "      <td>2017.000000</td>\n",
              "      <td>89.000000</td>\n",
              "      <td>11.000000</td>\n",
              "      <td>506.000000</td>\n",
              "    </tr>\n",
              "    <tr>\n",
              "      <th>75%</th>\n",
              "      <td>2020-08-26 00:00:00</td>\n",
              "      <td>2019.000000</td>\n",
              "      <td>106.000000</td>\n",
              "      <td>11.000000</td>\n",
              "      <td>603.000000</td>\n",
              "    </tr>\n",
              "    <tr>\n",
              "      <th>max</th>\n",
              "      <td>2021-09-25 00:00:00</td>\n",
              "      <td>2021.000000</td>\n",
              "      <td>312.000000</td>\n",
              "      <td>16.000000</td>\n",
              "      <td>747.000000</td>\n",
              "    </tr>\n",
              "    <tr>\n",
              "      <th>std</th>\n",
              "      <td>NaN</td>\n",
              "      <td>8.827570</td>\n",
              "      <td>50.610750</td>\n",
              "      <td>1.951427</td>\n",
              "      <td>191.097794</td>\n",
              "    </tr>\n",
              "  </tbody>\n",
              "</table>\n",
              "</div>"
            ],
            "text/plain": [
              "                          date_added  release_year  duration_num  rating_code  \\\n",
              "count                           8706   8706.000000   8706.000000  8706.000000   \n",
              "mean   2019-05-23 09:23:31.716058112   2014.197105     70.590627    10.009419   \n",
              "min              2008-01-01 00:00:00   1925.000000      1.000000     3.000000   \n",
              "25%              2018-04-20 00:00:00   2013.000000      3.000000     9.000000   \n",
              "50%              2019-07-12 00:00:00   2017.000000     89.000000    11.000000   \n",
              "75%              2020-08-26 00:00:00   2019.000000    106.000000    11.000000   \n",
              "max              2021-09-25 00:00:00   2021.000000    312.000000    16.000000   \n",
              "std                              NaN      8.827570     50.610750     1.951427   \n",
              "\n",
              "       country_code  \n",
              "count   8706.000000  \n",
              "mean     443.300597  \n",
              "min        0.000000  \n",
              "25%      251.000000  \n",
              "50%      506.000000  \n",
              "75%      603.000000  \n",
              "max      747.000000  \n",
              "std      191.097794  "
            ]
          },
          "execution_count": 35,
          "metadata": {},
          "output_type": "execute_result"
        }
      ],
      "source": [
        "netflix.describe()"
      ]
    },
    {
      "cell_type": "markdown",
      "metadata": {
        "id": "huijNIe-D3Cg"
      },
      "source": [
        "### **Distribution of years**"
      ]
    },
    {
      "cell_type": "code",
      "execution_count": 37,
      "metadata": {
        "colab": {
          "base_uri": "https://localhost:8080/",
          "height": 487
        },
        "id": "cTlTNmIbEILb",
        "outputId": "530455cc-7907-40b7-d479-c05f08907293"
      },
      "outputs": [
        {
          "data": {
            "image/png": "[encoded data removed]",
            "text/plain": [
              "<Figure size 1000x500 with 1 Axes>"
            ]
          },
          "metadata": {},
          "output_type": "display_data"
        }
      ],
      "source": [
        "plt.figure(figsize=(10,5))\n",
        "sns.histplot(netflix['release_year'], bins=30, kde=True)\n",
        "plt.title('Distribution of Release Years')\n",
        "plt.xlabel('Release Year')\n",
        "plt.ylabel('Count')\n",
        "plt.show()"
      ]
    },
    {
      "cell_type": "markdown",
      "metadata": {
        "id": "0Th5H-SkEbY7"
      },
      "source": [
        "### **The countries that produce the most content**"
      ]
    },
    {
      "cell_type": "code",
      "execution_count": 38,
      "metadata": {
        "colab": {
          "base_uri": "https://localhost:8080/",
          "height": 586
        },
        "id": "QmY1XjxiE5Vw",
        "outputId": "7a4e83c6-11ef-4ffd-f371-b6b03453f735"
      },
      "outputs": [
        {
          "data": {
            "text/plain": [
              "<Axes: title={'center': 'Top 10 Countries'}, xlabel='country'>"
            ]
          },
          "execution_count": 38,
          "metadata": {},
          "output_type": "execute_result"
        },
        {
          "data": {
            "image/png": "[encoded data removed]",
            "text/plain": [
              "<Figure size 640x480 with 1 Axes>"
            ]
          },
          "metadata": {},
          "output_type": "display_data"
        }
      ],
      "source": [
        "netflix['country'].value_counts().head(10).plot(kind='bar', title='Top 10 Countries')\n"
      ]
    },
    {
      "cell_type": "markdown",
      "metadata": {
        "id": "WqsziFA6FBeE"
      },
      "source": [
        "### **Distribution by display type**"
      ]
    },
    {
      "cell_type": "code",
      "execution_count": 39,
      "metadata": {
        "colab": {
          "base_uri": "https://localhost:8080/",
          "height": 445
        },
        "id": "_bRhEU0xFCm7",
        "outputId": "de5744f1-c97a-4dbf-b631-2d47da1c1d59"
      },
      "outputs": [
        {
          "data": {
            "text/plain": [
              "<Axes: title={'center': 'Type Distribution'}, ylabel='count'>"
            ]
          },
          "execution_count": 39,
          "metadata": {},
          "output_type": "execute_result"
        },
        {
          "data": {
            "image/png": "[encoded data removed]",
            "text/plain": [
              "<Figure size 640x480 with 1 Axes>"
            ]
          },
          "metadata": {},
          "output_type": "display_data"
        }
      ],
      "source": [
        "netflix['type'].value_counts().plot(kind='pie', autopct='%1.1f%%', title='Type Distribution')\n"
      ]
    },
    {
      "cell_type": "markdown",
      "metadata": {
        "id": "jpeo6vJuFY4c"
      },
      "source": [
        "### **rating analysis**"
      ]
    },
    {
      "cell_type": "code",
      "execution_count": 40,
      "metadata": {
        "colab": {
          "base_uri": "https://localhost:8080/",
          "height": 535
        },
        "id": "izVAC-xpFaNP",
        "outputId": "6effca97-4924-4985-e38b-f7a799dd6822"
      },
      "outputs": [
        {
          "data": {
            "text/plain": [
              "<Axes: title={'center': 'Content Ratings'}, xlabel='rating'>"
            ]
          },
          "execution_count": 40,
          "metadata": {},
          "output_type": "execute_result"
        },
        {
          "data": {
            "image/png": "[encoded data removed]",
            "text/plain": [
              "<Figure size 640x480 with 1 Axes>"
            ]
          },
          "metadata": {},
          "output_type": "display_data"
        }
      ],
      "source": [
        "netflix['rating'].value_counts().plot(kind='bar', title='Content Ratings')\n"
      ]
    },
    {
      "cell_type": "markdown",
      "metadata": {
        "id": "cxo6_ufKFsxZ"
      },
      "source": [
        "### **duration_num sv duration_type**"
      ]
    },
    {
      "cell_type": "code",
      "execution_count": 41,
      "metadata": {
        "colab": {
          "base_uri": "https://localhost:8080/",
          "height": 489
        },
        "id": "lBbnUttaFu8l",
        "outputId": "f2a9c5dc-6669-4ba6-9df4-d0950a3f11da"
      },
      "outputs": [
        {
          "data": {
            "text/plain": [
              "Text(0.5, 1.0, 'Duration by Type')"
            ]
          },
          "execution_count": 41,
          "metadata": {},
          "output_type": "execute_result"
        },
        {
          "data": {
            "image/png": "[encoded data removed]",
            "text/plain": [
              "<Figure size 640x480 with 1 Axes>"
            ]
          },
          "metadata": {},
          "output_type": "display_data"
        }
      ],
      "source": [
        "sns.boxplot(x='duration_type', y='duration_num', data=netflix)\n",
        "plt.title('Duration by Type')\n"
      ]
    },
    {
      "cell_type": "markdown",
      "metadata": {
        "id": "nB4xaeIPGgL3"
      },
      "source": [
        "### **Advanced programs produced by genre.**"
      ]
    },
    {
      "cell_type": "code",
      "execution_count": 42,
      "metadata": {
        "colab": {
          "base_uri": "https://localhost:8080/",
          "height": 469
        },
        "id": "an9B074IGiwG",
        "outputId": "e1d8d5e7-40f2-42c8-c219-964b0663c07f"
      },
      "outputs": [
        {
          "data": {
            "text/plain": [
              "<Axes: title={'center': 'Top 10 Genres'}, ylabel='listed_in'>"
            ]
          },
          "execution_count": 42,
          "metadata": {},
          "output_type": "execute_result"
        },
        {
          "data": {
            "image/png": "[encoded data removed]",
            "text/plain": [
              "<Figure size 640x480 with 1 Axes>"
            ]
          },
          "metadata": {},
          "output_type": "display_data"
        }
      ],
      "source": [
        "netflix['listed_in'].value_counts().head(10).plot(kind='barh', title='Top 10 Genres')\n"
      ]
    },
    {
      "cell_type": "markdown",
      "metadata": {
        "id": "Ksj2YjV_HI2Z"
      },
      "source": [
        "### **Most Released Shows of All Time**"
      ]
    },
    {
      "cell_type": "code",
      "execution_count": 43,
      "metadata": {
        "colab": {
          "base_uri": "https://localhost:8080/",
          "height": 489
        },
        "id": "PuaYngeoHIJT",
        "outputId": "18045f82-e8e4-48fc-acaf-a8174309324e"
      },
      "outputs": [
        {
          "data": {
            "text/plain": [
              "<Axes: title={'center': 'Titles Added per Year'}, xlabel='year_added'>"
            ]
          },
          "execution_count": 43,
          "metadata": {},
          "output_type": "execute_result"
        },
        {
          "data": {
            "image/png": "[encoded data removed]",
            "text/plain": [
              "<Figure size 640x480 with 1 Axes>"
            ]
          },
          "metadata": {},
          "output_type": "display_data"
        }
      ],
      "source": [
        "netflix['year_added'] = netflix['date_added'].dt.year\n",
        "netflix['year_added'].value_counts().sort_index().plot(kind='line', marker='o', title='Titles Added per Year')\n"
      ]
    },
    {
      "cell_type": "markdown",
      "metadata": {
        "id": "Dl-qk_lOHifj"
      },
      "source": [
        "### **The most famous directors**"
      ]
    },
    {
      "cell_type": "code",
      "execution_count": 44,
      "metadata": {
        "colab": {
          "base_uri": "https://localhost:8080/",
          "height": 469
        },
        "id": "OhY-ep5NHh-h",
        "outputId": "e4f3c0fb-9553-4d54-ef9d-74a410f7a151"
      },
      "outputs": [
        {
          "data": {
            "text/plain": [
              "<Axes: title={'center': 'Top 10 Directors'}, ylabel='director'>"
            ]
          },
          "execution_count": 44,
          "metadata": {},
          "output_type": "execute_result"
        },
        {
          "data": {
            "image/png": "[encoded data removed]",
            "text/plain": [
              "<Figure size 640x480 with 1 Axes>"
            ]
          },
          "metadata": {},
          "output_type": "display_data"
        }
      ],
      "source": [
        "netflix['director'].value_counts().head(10).plot(kind='barh', title='Top 10 Directors')\n"
      ]
    },
    {
      "cell_type": "markdown",
      "metadata": {
        "id": "Xd9P-wA8H-s9"
      },
      "source": [
        "## **visualization**\n",
        "\n",
        "### **Number of shows by type**"
      ]
    },
    {
      "cell_type": "code",
      "execution_count": null,
      "metadata": {
        "colab": {
          "base_uri": "https://localhost:8080/",
          "height": 579
        },
        "id": "FBp_jZQKIpUx",
        "outputId": "b8fc140f-815d-48d6-f5be-dca9a6e69c8c"
      },
      "outputs": [
        {
          "name": "stderr",
          "output_type": "stream",
          "text": [
            "C:\\Users\\aliha\\AppData\\Local\\Temp\\ipykernel_13124\\3731706452.py:1: FutureWarning: \n",
            "\n",
            "Passing `palette` without assigning `hue` is deprecated and will be removed in v0.14.0. Assign the `x` variable to `hue` and set `legend=False` for the same effect.\n",
            "\n",
            "  sns.countplot(data=netflix, x='type', palette='pastel')\n"
          ]
        },
        {
          "data": {
            "image/png": "[encoded data removed]",
            "text/plain": [
              "<Figure size 640x480 with 1 Axes>"
            ]
          },
          "metadata": {},
          "output_type": "display_data"
        }
      ],
      "source": [
        "\n",
        "sns.countplot(data=netflix, x='type', palette='pastel')\n",
        "plt.title('Number of shows by type')\n",
        "plt.xlabel('type')\n",
        "plt.ylabel('show')\n",
        "plt.show()\n"
      ]
    },
    {
      "cell_type": "markdown",
      "metadata": {
        "id": "2VKMVu6cJBhK"
      },
      "source": [
        "### **The countries that produce the most content**"
      ]
    },
    {
      "cell_type": "code",
      "execution_count": 56,
      "metadata": {
        "colab": {
          "base_uri": "https://localhost:8080/",
          "height": 586
        },
        "id": "yCeOROBvNdX0",
        "outputId": "6a7d4dd2-0b28-46b8-e5ec-24c9e51debfc"
      },
      "outputs": [
        {
          "data": {
            "text/plain": [
              "<Axes: title={'center': 'Top 10 Content Producing Countries'}, xlabel='country'>"
            ]
          },
          "execution_count": 56,
          "metadata": {},
          "output_type": "execute_result"
        },
        {
          "data": {
            "image/png": "[encoded data removed]",
            "text/plain": [
              "<Figure size 640x480 with 1 Axes>"
            ]
          },
          "metadata": {},
          "output_type": "display_data"
        }
      ],
      "source": [
        "netflix['country'].value_counts().head(10).plot(kind='bar', title='Top 10 Content Producing Countries')\n"
      ]
    },
    {
      "cell_type": "code",
      "execution_count": 57,
      "metadata": {
        "colab": {
          "base_uri": "https://localhost:8080/",
          "height": 546
        },
        "id": "-gdmDCAfJDFj",
        "outputId": "fb944b13-4ddc-4058-9d9c-50c985cef792"
      },
      "outputs": [
        {
          "data": {
            "image/png": "[encoded data removed]",
            "text/plain": [
              "<Figure size 640x480 with 1 Axes>"
            ]
          },
          "metadata": {},
          "output_type": "display_data"
        }
      ],
      "source": [
        "top_countries = netflix['country'].value_counts().head(10)\n",
        "top_countries.plot(kind='bar', color='skyblue')\n",
        "plt.title('The countries that produce the most content')\n",
        "plt.xlabel('countries')\n",
        "plt.ylabel(' content')\n",
        "plt.xticks(rotation=45)\n",
        "plt.show()\n"
      ]
    },
    {
      "cell_type": "markdown",
      "metadata": {
        "id": "yLVL0PD9KFI_"
      },
      "source": [
        "### **Rating**"
      ]
    },
    {
      "cell_type": "code",
      "execution_count": 58,
      "metadata": {
        "colab": {
          "base_uri": "https://localhost:8080/",
          "height": 579
        },
        "id": "yHxYoFfqKGt5",
        "outputId": "c8f7fc01-6dba-4782-f2a7-e4318b084f80"
      },
      "outputs": [
        {
          "name": "stderr",
          "output_type": "stream",
          "text": [
            "C:\\Users\\aliha\\AppData\\Local\\Temp\\ipykernel_13124\\1988337047.py:1: FutureWarning: \n",
            "\n",
            "Passing `palette` without assigning `hue` is deprecated and will be removed in v0.14.0. Assign the `y` variable to `hue` and set `legend=False` for the same effect.\n",
            "\n",
            "  sns.countplot(data=netflix, y='rating', order=netflix['rating'].value_counts().index, palette='Set3')\n"
          ]
        },
        {
          "data": {
            "image/png": "[encoded data removed]",
            "text/plain": [
              "<Figure size 640x480 with 1 Axes>"
            ]
          },
          "metadata": {},
          "output_type": "display_data"
        }
      ],
      "source": [
        "sns.countplot(data=netflix, y='rating', order=netflix['rating'].value_counts().index, palette='Set3')\n",
        "plt.title('Distribution of rating')\n",
        "plt.xlabel('Number of shows')\n",
        "plt.ylabel('rating')\n",
        "plt.show()\n"
      ]
    },
    {
      "cell_type": "markdown",
      "metadata": {
        "id": "QnT0T6fDKj3_"
      },
      "source": [
        "### **Evolution of the number of shows by year of release**"
      ]
    },
    {
      "cell_type": "code",
      "execution_count": 59,
      "metadata": {
        "colab": {
          "base_uri": "https://localhost:8080/",
          "height": 487
        },
        "id": "tBPyMjZIKjtW",
        "outputId": "d81a0c70-6db7-423e-cd29-2da51302effc"
      },
      "outputs": [
        {
          "data": {
            "image/png": "[encoded data removed]",
            "text/plain": [
              "<Figure size 1000x500 with 1 Axes>"
            ]
          },
          "metadata": {},
          "output_type": "display_data"
        }
      ],
      "source": [
        "netflix['release_year'].value_counts().sort_index().plot(kind='line', figsize=(10, 5))\n",
        "plt.title('Shows are distributed according to the year of issue.')\n",
        "plt.xlabel('year')\n",
        "plt.ylabel('Number of shows')\n",
        "plt.grid(True)\n",
        "plt.show()\n"
      ]
    },
    {
      "cell_type": "markdown",
      "metadata": {
        "id": "i_r8PJFwLFhx"
      },
      "source": [
        "### **Display duration distribution**"
      ]
    },
    {
      "cell_type": "code",
      "execution_count": 60,
      "metadata": {
        "colab": {
          "base_uri": "https://localhost:8080/",
          "height": 472
        },
        "id": "3eutfaPVLFSb",
        "outputId": "55c7a58a-f76b-4ba6-9ba3-44e24f2e7548"
      },
      "outputs": [
        {
          "data": {
            "image/png": "[encoded data removed]",
            "text/plain": [
              "<Figure size 640x480 with 1 Axes>"
            ]
          },
          "metadata": {},
          "output_type": "display_data"
        }
      ],
      "source": [
        "sns.histplot(netflix['duration_num'], bins=30, kde=True, color='coral')\n",
        "plt.title('Display duration distribution')\n",
        "plt.xlabel('Duration (minutes or episodes)')\n",
        "plt.ylabel('num')\n",
        "plt.show()\n"
      ]
    },
    {
      "cell_type": "markdown",
      "metadata": {
        "id": "eKkJ6JWAMERP"
      },
      "source": [
        "### **Comparison of show types by classification**"
      ]
    },
    {
      "cell_type": "code",
      "execution_count": 61,
      "metadata": {
        "colab": {
          "base_uri": "https://localhost:8080/",
          "height": 510
        },
        "id": "qRMsX9tIL9bU",
        "outputId": "a98b34ee-46ce-4dc0-8731-ab13e5db7ade"
      },
      "outputs": [
        {
          "data": {
            "image/png": "[encoded data removed]",
            "text/plain": [
              "<Figure size 640x480 with 1 Axes>"
            ]
          },
          "metadata": {},
          "output_type": "display_data"
        }
      ],
      "source": [
        "sns.countplot(data=netflix, x='rating', hue='type', palette='muted')\n",
        "plt.title('Comparison of show types by classification')\n",
        "plt.xlabel('Classification')\n",
        "plt.ylabel('Number of shows')\n",
        "plt.xticks(rotation=45)\n",
        "plt.show()\n"
      ]
    },
    {
      "cell_type": "markdown",
      "metadata": {
        "id": "XRyNATNtMpgF"
      },
      "source": [
        "### **Genres**\n",
        "\n"
      ]
    },
    {
      "cell_type": "code",
      "execution_count": 62,
      "metadata": {
        "colab": {
          "base_uri": "https://localhost:8080/",
          "height": 591
        },
        "id": "bw-KWvTyMuiG",
        "outputId": "0019dd84-b0bb-44a6-fe6b-a86e2ffb4997"
      },
      "outputs": [
        {
          "data": {
            "image/png": "[encoded data removed]",
            "text/plain": [
              "<Figure size 640x480 with 1 Axes>"
            ]
          },
          "metadata": {},
          "output_type": "display_data"
        }
      ],
      "source": [
        "\n",
        "genres = netflix['listed_in'].str.split(', ')\n",
        "flat_genres = [genre for sublist in genres for genre in sublist]\n",
        "top_genres = pd.Series(Counter(flat_genres)).sort_values(ascending=False).head(10)\n",
        "\n",
        "top_genres.plot(kind='bar', color='teal')\n",
        "plt.title('(Genres)')\n",
        "plt.xlabel('class')\n",
        "plt.ylabel('shows')\n",
        "plt.xticks(rotation=45)\n",
        "plt.show()\n"
      ]
    },
    {
      "cell_type": "markdown",
      "metadata": {
        "id": "RnTpyy8WNIJj"
      },
      "source": [
        "## **Insights**"
      ]
    },
    {
      "cell_type": "code",
      "execution_count": 63,
      "metadata": {
        "colab": {
          "base_uri": "https://localhost:8080/",
          "height": 534
        },
        "id": "kRBuVUKiNHdO",
        "outputId": "bb0fa518-d473-4630-ac3c-d6ad26e10ef6"
      },
      "outputs": [
        {
          "data": {
            "text/plain": [
              "<Axes: title={'center': 'Number of movies vs. series'}, xlabel='type'>"
            ]
          },
          "execution_count": 63,
          "metadata": {},
          "output_type": "execute_result"
        },
        {
          "data": {
            "image/png": "[encoded data removed]",
            "text/plain": [
              "<Figure size 640x480 with 1 Axes>"
            ]
          },
          "metadata": {},
          "output_type": "display_data"
        }
      ],
      "source": [
        "netflix['type'].value_counts().plot(kind='bar', title='Number of movies vs. series')\n"
      ]
    },
    {
      "cell_type": "code",
      "execution_count": null,
      "metadata": {
        "colab": {
          "base_uri": "https://localhost:8080/",
          "height": 538
        },
        "id": "ku0IQhJENE3_",
        "outputId": "90a4a01a-7d2e-4f9a-82e5-4865dc1a78cf"
      },
      "outputs": [],
      "source": []
    },
    {
      "cell_type": "markdown",
      "metadata": {
        "id": "peWZ0s_1OePM"
      },
      "source": [
        "## **save**"
      ]
    },
    {
      "cell_type": "code",
      "execution_count": 64,
      "metadata": {
        "id": "7X0J38AKOhpg"
      },
      "outputs": [],
      "source": [
        "netflix.to_csv('netflix_clean.csv', index=False)\n"
      ]
    }
  ],
  "metadata": {
    "colab": {
      "provenance": []
    },
    "kernelspec": {
      "display_name": "base",
      "language": "python",
      "name": "python3"
    },
    "language_info": {
      "codemirror_mode": {
        "name": "ipython",
        "version": 3
      },
      "file_extension": ".py",
      "mimetype": "text/x-python",
      "name": "python",
      "nbconvert_exporter": "python",
      "pygments_lexer": "ipython3",
      "version": "3.12.7"
    }
  },
  "nbformat": 4,
  "nbformat_minor": 0
}
